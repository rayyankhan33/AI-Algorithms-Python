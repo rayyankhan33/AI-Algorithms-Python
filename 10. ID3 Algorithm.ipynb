{
  "cells": [
    {
      "cell_type": "code",
      "execution_count": 14,
      "id": "869dec2d",
      "metadata": {
        "id": "869dec2d"
      },
      "outputs": [],
      "source": [
        "# Import libraries\n",
        "import pandas as pd\n",
        "import numpy as np\n",
        "from collections import Counter\n",
        "import math"
      ]
    },
    {
      "cell_type": "code",
      "execution_count": 15,
      "id": "782f71a2",
      "metadata": {
        "id": "782f71a2",
        "outputId": "9bfa75a8-7070-4bd1-b57d-584e1a5cb0d5"
      },
      "outputs": [
        {
          "name": "stdout",
          "output_type": "stream",
          "text": [
            "Columns: ['Age', 'Gender', 'Polyuria', 'Polydipsia', 'sudden weight loss', 'weakness', 'Polyphagia', 'Genital thrush', 'visual blurring', 'Itching', 'Irritability', 'delayed healing', 'partial paresis', 'muscle stiffness', 'Alopecia', 'Obesity', 'class']\n"
          ]
        }
      ],
      "source": [
        "# Load the dataset\n",
        "data = pd.read_csv('diabetes_data.csv')\n",
        "\n",
        "# View column names\n",
        "print(\"Columns:\", data.columns.tolist())\n",
        "\n",
        "# Let's assume 'class' is the target.\n",
        "TARGET = 'class'\n"
      ]
    },
    {
      "cell_type": "code",
      "execution_count": 16,
      "id": "c75605d8",
      "metadata": {
        "id": "c75605d8"
      },
      "outputs": [],
      "source": [
        "# Binning numerical attributes (e.g., Age)\n",
        "def bin_age(age):\n",
        "    if age < 30:\n",
        "        return '<30'\n",
        "    elif age <= 50:\n",
        "        return '30-50'\n",
        "    else:\n",
        "        return '>50'\n",
        "\n",
        "# Apply binning\n",
        "if 'Age' in data.columns:\n",
        "    data['Age'] = data['Age'].apply(bin_age)\n",
        "\n",
        "# If other numerical features exist, bin similarly if needed\n"
      ]
    },
    {
      "cell_type": "markdown",
      "id": "8693b9ee",
      "metadata": {
        "id": "8693b9ee"
      },
      "source": [
        "Split the data into a test and training set"
      ]
    },
    {
      "cell_type": "code",
      "execution_count": 17,
      "id": "87641b75",
      "metadata": {
        "id": "87641b75"
      },
      "outputs": [],
      "source": [
        "#split here\n",
        "from sklearn.model_selection import train_test_split\n",
        "train_data, test_data = train_test_split(data, test_size=0.2, random_state=42)"
      ]
    },
    {
      "cell_type": "markdown",
      "id": "fbba033d",
      "metadata": {
        "id": "fbba033d"
      },
      "source": [
        "Implement the entropy function"
      ]
    },
    {
      "cell_type": "code",
      "execution_count": 18,
      "id": "e8e8804a",
      "metadata": {
        "id": "e8e8804a"
      },
      "outputs": [],
      "source": [
        "# Function to calculate entropy\n",
        "def entropy(column):\n",
        "    counts = Counter(column)\n",
        "    total = len(column)\n",
        "    entropy = 0\n",
        "    \n",
        "    for count in counts.values():\n",
        "        probability = count / total\n",
        "        entropy -= probability * math.log2(probability)\n",
        "    \n",
        "    return entropy\n"
      ]
    },
    {
      "cell_type": "markdown",
      "id": "82b46165",
      "metadata": {
        "id": "82b46165"
      },
      "source": [
        "Implement the info gain function"
      ]
    },
    {
      "cell_type": "code",
      "execution_count": 19,
      "id": "367fa60a",
      "metadata": {
        "id": "367fa60a"
      },
      "outputs": [],
      "source": [
        "# Function to calculate information gain\n",
        "def information_gain(data, split_attr, target_attr=TARGET):\n",
        "    # Calculate total entropy before split\n",
        "    total_entropy = entropy(data[target_attr])\n",
        "    \n",
        "    # Calculate weighted entropy after split\n",
        "    weighted_entropy = 0\n",
        "    for value in data[split_attr].unique():\n",
        "        subset = data[data[split_attr] == value]\n",
        "        weight = len(subset) / len(data)\n",
        "        weighted_entropy += weight * entropy(subset[target_attr])\n",
        "    \n",
        "    # Calculate information gain\n",
        "    info_gain = total_entropy - weighted_entropy\n",
        "    return info_gain\n"
      ]
    },
    {
      "cell_type": "markdown",
      "id": "c8f7accf",
      "metadata": {
        "id": "c8f7accf"
      },
      "source": [
        "Implement the ID3 algo"
      ]
    },
    {
      "cell_type": "code",
      "execution_count": 20,
      "id": "5afa127a",
      "metadata": {
        "id": "5afa127a"
      },
      "outputs": [],
      "source": [
        "# ID3 algorithm\n",
        "def id3(data, original_data, features, target_attr=TARGET, parent_node_class=None):\n",
        "    # If all target values are the same, return that value\n",
        "    if len(data[target_attr].unique()) == 1:\n",
        "        return data[target_attr].iloc[0]\n",
        "    \n",
        "    # If no features left, return most common class\n",
        "    if len(features) == 0:\n",
        "        return data[target_attr].mode()[0]\n",
        "    \n",
        "    # If dataset is empty, return most common class from parent\n",
        "    if len(data) == 0:\n",
        "        return parent_node_class\n",
        "    \n",
        "    # Find best feature to split on\n",
        "    best_feature = max(features, key=lambda x: information_gain(data, x))\n",
        "    \n",
        "    # Create tree structure\n",
        "    tree = {best_feature: {}}\n",
        "    \n",
        "    # Remove best feature from features list\n",
        "    features = [f for f in features if f != best_feature]\n",
        "    \n",
        "    # Create branches for each value of best feature\n",
        "    for value in data[best_feature].unique():\n",
        "        subset = data[data[best_feature] == value]\n",
        "        subtree = id3(subset, original_data, features, target_attr, data[target_attr].mode()[0])\n",
        "        tree[best_feature][value] = subtree\n",
        "    \n",
        "    return tree\n"
      ]
    },
    {
      "cell_type": "markdown",
      "id": "5103c33d",
      "metadata": {
        "id": "5103c33d"
      },
      "source": [
        "Prediction Function"
      ]
    },
    {
      "cell_type": "code",
      "execution_count": 21,
      "id": "e8f2c480",
      "metadata": {
        "id": "e8f2c480"
      },
      "outputs": [],
      "source": [
        "def predict(query, tree, default=None):\n",
        "    # If tree is a leaf node (not a dict), return its value\n",
        "    if not isinstance(tree, dict):\n",
        "        return tree\n",
        "    \n",
        "    # Get the first key (feature) from the tree\n",
        "    feature = list(tree.keys())[0]\n",
        "    \n",
        "    # If feature not in query, return default\n",
        "    if feature not in query:\n",
        "        return default\n",
        "    \n",
        "    # Get the value for this feature from the query\n",
        "    value = query[feature]\n",
        "    \n",
        "    # If value not in tree, return default\n",
        "    if value not in tree[feature]:\n",
        "        return default\n",
        "    \n",
        "    # Recursively predict using the subtree\n",
        "    subtree = tree[feature][value]\n",
        "    return predict(query, subtree, default)\n"
      ]
    },
    {
      "cell_type": "markdown",
      "id": "cf78e354",
      "metadata": {
        "id": "cf78e354"
      },
      "source": [
        "Implement the testing functiom"
      ]
    },
    {
      "cell_type": "code",
      "execution_count": 22,
      "id": "263d2acc",
      "metadata": {
        "id": "263d2acc"
      },
      "outputs": [],
      "source": [
        "def test(data, tree):\n",
        "    correct = 0\n",
        "    total = len(data)\n",
        "    \n",
        "    for _, row in data.iterrows():\n",
        "        query = row.to_dict()\n",
        "        actual = query.pop(TARGET)\n",
        "        predicted = predict(query, tree)\n",
        "        \n",
        "        if predicted == actual:\n",
        "            correct += 1\n",
        "    \n",
        "    accuracy = correct / total\n",
        "    print(f\"Accuracy: {accuracy:.2%}\")\n",
        "    return accuracy"
      ]
    },
    {
      "cell_type": "markdown",
      "id": "85bb8637",
      "metadata": {
        "id": "85bb8637"
      },
      "source": [
        "The rest of the stuff has been implemented for you"
      ]
    },
    {
      "cell_type": "code",
      "execution_count": 23,
      "id": "4972b83c",
      "metadata": {
        "id": "4972b83c"
      },
      "outputs": [],
      "source": [
        "#  tree visualization\n",
        "def print_tree(tree, indent=\"\"):\n",
        "    if not isinstance(tree, dict):\n",
        "        print(indent + \"->\", tree)\n",
        "        return\n",
        "    for attr, branches in tree.items():\n",
        "        for value, subtree in branches.items():\n",
        "            print(indent + f\"[{attr} = {value}]\")\n",
        "            print_tree(subtree, indent + \"  \")\n"
      ]
    },
    {
      "cell_type": "code",
      "execution_count": 24,
      "id": "7dd58cbf",
      "metadata": {
        "id": "7dd58cbf"
      },
      "outputs": [
        {
          "name": "stdout",
          "output_type": "stream",
          "text": [
            "[Polyuria = Yes]\n",
            "  [Polydipsia = Yes]\n",
            "    -> Positive\n",
            "  [Polydipsia = No]\n",
            "    [Itching = Yes]\n",
            "      [Genital thrush = No]\n",
            "        [visual blurring = Yes]\n",
            "          -> Negative\n",
            "        [visual blurring = No]\n",
            "          -> Positive\n",
            "      [Genital thrush = Yes]\n",
            "        [Obesity = No]\n",
            "          -> Positive\n",
            "        [Obesity = Yes]\n",
            "          [sudden weight loss = No]\n",
            "            -> Positive\n",
            "          [sudden weight loss = Yes]\n",
            "            -> Negative\n",
            "    [Itching = No]\n",
            "      -> Positive\n",
            "[Polyuria = No]\n",
            "  [Gender = Male]\n",
            "    [Irritability = No]\n",
            "      [Polydipsia = No]\n",
            "        [weakness = Yes]\n",
            "          [Itching = No]\n",
            "            [Alopecia = Yes]\n",
            "              [sudden weight loss = Yes]\n",
            "                -> Negative\n",
            "              [sudden weight loss = No]\n",
            "                -> Positive\n",
            "            [Alopecia = No]\n",
            "              -> Negative\n",
            "          [Itching = Yes]\n",
            "            [Alopecia = Yes]\n",
            "              -> Negative\n",
            "            [Alopecia = No]\n",
            "              [Age = 30-50]\n",
            "                -> Positive\n",
            "              [Age = >50]\n",
            "                -> Negative\n",
            "        [weakness = No]\n",
            "          [partial paresis = No]\n",
            "            -> Negative\n",
            "          [partial paresis = Yes]\n",
            "            -> Positive\n",
            "      [Polydipsia = Yes]\n",
            "        [muscle stiffness = No]\n",
            "          [Alopecia = Yes]\n",
            "            -> Positive\n",
            "          [Alopecia = No]\n",
            "            [Itching = Yes]\n",
            "              -> Negative\n",
            "            [Itching = No]\n",
            "              -> Positive\n",
            "        [muscle stiffness = Yes]\n",
            "          -> Negative\n",
            "    [Irritability = Yes]\n",
            "      [Polydipsia = No]\n",
            "        [Genital thrush = No]\n",
            "          [Polyphagia = No]\n",
            "            -> Negative\n",
            "          [Polyphagia = Yes]\n",
            "            [Age = >50]\n",
            "              -> Negative\n",
            "            [Age = 30-50]\n",
            "              -> Positive\n",
            "        [Genital thrush = Yes]\n",
            "          -> Positive\n",
            "      [Polydipsia = Yes]\n",
            "        -> Positive\n",
            "  [Gender = Female]\n",
            "    [Alopecia = Yes]\n",
            "      [Polydipsia = No]\n",
            "        -> Negative\n",
            "      [Polydipsia = Yes]\n",
            "        -> Positive\n",
            "    [Alopecia = No]\n",
            "      [visual blurring = Yes]\n",
            "        -> Positive\n",
            "      [visual blurring = No]\n",
            "        [muscle stiffness = No]\n",
            "          [Age = 30-50]\n",
            "            [Irritability = No]\n",
            "              [weakness = Yes]\n",
            "                -> Positive\n",
            "              [weakness = No]\n",
            "                [sudden weight loss = No]\n",
            "                  [Polydipsia = No]\n",
            "                    [Polyphagia = No]\n",
            "                      [Genital thrush = No]\n",
            "                        [Itching = No]\n",
            "                          [delayed healing = No]\n",
            "                            [partial paresis = No]\n",
            "                              [Obesity = No]\n",
            "                                -> Positive\n",
            "                [sudden weight loss = Yes]\n",
            "                  -> Negative\n",
            "            [Irritability = Yes]\n",
            "              -> Negative\n",
            "          [Age = <30]\n",
            "            -> Negative\n",
            "          [Age = >50]\n",
            "            -> Positive\n",
            "        [muscle stiffness = Yes]\n",
            "          -> Positive\n",
            "Accuracy: 95.19%\n",
            "Example prediction: Negative\n"
          ]
        }
      ],
      "source": [
        "# Prepare features list\n",
        "features = data.columns.tolist()\n",
        "features.remove(TARGET)\n",
        "\n",
        "# Build the decision tree\n",
        "tree = id3(train_data, train_data, features)\n",
        "\n",
        "# Display the tree\n",
        "print_tree(tree)\n",
        "\n",
        "\n",
        "# Test accuracy on the same data (since no train-test split here)\n",
        "test(test_data, tree)\n",
        "\n",
        "# Predict on a single new instance (example)\n",
        "example_query = {col: test_data[col].iloc[0] for col in features}\n",
        "print(\"Example prediction:\", predict(example_query, tree))\n"
      ]
    },
    {
      "cell_type": "markdown",
      "id": "6de9a171",
      "metadata": {
        "id": "6de9a171"
      },
      "source": []
    }
  ],
  "metadata": {
    "colab": {
      "provenance": []
    },
    "kernelspec": {
      "display_name": "Python 3",
      "language": "python",
      "name": "python3"
    },
    "language_info": {
      "codemirror_mode": {
        "name": "ipython",
        "version": 3
      },
      "file_extension": ".py",
      "mimetype": "text/x-python",
      "name": "python",
      "nbconvert_exporter": "python",
      "pygments_lexer": "ipython3",
      "version": "3.13.2"
    }
  },
  "nbformat": 4,
  "nbformat_minor": 5
}
