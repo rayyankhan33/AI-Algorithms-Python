{
  "cells": [
    {
      "cell_type": "markdown",
      "metadata": {
        "id": "Y8nQqfHpQKR1"
      },
      "source": [
        "# **Task: Build K‑Nearest Neighbors (KNN) Classifier from Scratch**"
      ]
    },
    {
      "cell_type": "markdown",
      "metadata": {
        "id": "yMUPdDyXQ-oJ"
      },
      "source": [
        "## **Objective :**\n",
        "- Implement the KNN classification algorithm in Python without using scikit‑learn’s KNeighborsClassifier.\n",
        "\n",
        "- Practice data loading, cleaning, feature scaling, and train/test splitting.\n",
        "\n",
        "- Evaluate your classifier’s performance using accuracy, precision, recall, and a confusion matrix."
      ]
    },
    {
      "cell_type": "code",
      "execution_count": 1,
      "metadata": {
        "id": "I4CwIoFrRvaZ"
      },
      "outputs": [],
      "source": [
        "import numpy as np\n",
        "import pandas as pd\n",
        "import seaborn as sns\n",
        "import matplotlib.pyplot as plt\n",
        "from sklearn.model_selection import train_test_split\n",
        "import time"
      ]
    },
    {
      "cell_type": "markdown",
      "metadata": {
        "id": "tolqedUFRgJo"
      },
      "source": [
        "## **1. Data loading**\n"
      ]
    },
    {
      "cell_type": "code",
      "execution_count": 1,
      "metadata": {
        "colab": {
          "base_uri": "https://localhost:8080/",
          "height": 290
        },
        "id": "ABe7SvJzPaD8",
        "outputId": "e899542a-ce10-49f2-c237-8fbf6ee59c9f"
      },
      "outputs": [
        {
          "ename": "ModuleNotFoundError",
          "evalue": "No module named 'kagglehub'",
          "output_type": "error",
          "traceback": [
            "\u001b[31m---------------------------------------------------------------------------\u001b[39m",
            "\u001b[31mModuleNotFoundError\u001b[39m                       Traceback (most recent call last)",
            "\u001b[36mCell\u001b[39m\u001b[36m \u001b[39m\u001b[32mIn[1]\u001b[39m\u001b[32m, line 1\u001b[39m\n\u001b[32m----> \u001b[39m\u001b[32m1\u001b[39m \u001b[38;5;28;01mimport\u001b[39;00m\u001b[38;5;250m \u001b[39m\u001b[34;01mkagglehub\u001b[39;00m\n\u001b[32m      2\u001b[39m \u001b[38;5;28;01mimport\u001b[39;00m\u001b[38;5;250m \u001b[39m\u001b[34;01mpandas\u001b[39;00m\u001b[38;5;250m \u001b[39m\u001b[38;5;28;01mas\u001b[39;00m\u001b[38;5;250m \u001b[39m\u001b[34;01mpd\u001b[39;00m\n\u001b[32m      4\u001b[39m \u001b[38;5;66;03m# Step 1: Download latest version of the dataset\u001b[39;00m\n",
            "\u001b[31mModuleNotFoundError\u001b[39m: No module named 'kagglehub'"
          ]
        }
      ],
      "source": [
        "import kagglehub\n",
        "import pandas as pd\n",
        "\n",
        "# Step 1: Download latest version of the dataset\n",
        "path = kagglehub.dataset_download(\"uciml/breast-cancer-wisconsin-data\")\n",
        "print(\"Path to dataset files:\", path)\n",
        "\n",
        "# Step 2: Load the dataset\n",
        "df = pd.read_csv(f\"{path}/data.csv\", index_col='id').reset_index(drop=True)\n",
        "df.head()"
      ]
    },
    {
      "cell_type": "markdown",
      "metadata": {
        "id": "AfjQ3sHXTXY1"
      },
      "source": [
        "## **2. Data Preprocessing**\n",
        "\n",
        "- **Identify missing values**\n",
        "- **Handle missing data (choose one)**\n",
        "- **Feature scaling**\n",
        "- **Train/Test split**: Split into 70% train / 30% test (use random_state=42)."
      ]
    },
    {
      "cell_type": "code",
      "execution_count": null,
      "metadata": {
        "id": "vSSvsjV_TWvc"
      },
      "outputs": [],
      "source": [
        "from sklearn.preprocessing import StandardScaler\n",
        "from sklearn.metrics import accuracy_score, precision_score, recall_score, confusion_matrix, classification_report\n",
        "\n",
        "if 'Unnamed: 32' in df.columns:\n",
        "    df = df.drop(columns=['Unnamed: 32'])\n",
        "\n",
        "X = df.drop(columns=['diagnosis']).values\n",
        "y = (df['diagnosis'] == 'M').astype(int).values\n",
        "\n",
        "scaler = StandardScaler()\n",
        "X_scaled = scaler.fit_transform(X)\n",
        "\n",
        "X_train, X_test, y_train, y_test = train_test_split(\n",
        "    X_scaled, y, test_size=0.3, random_state=42\n",
        ")"
      ]
    },
    {
      "cell_type": "markdown",
      "metadata": {
        "id": "H8iVsfERQHSk"
      },
      "source": [
        "## **Implement KNN Class**"
      ]
    },
    {
      "cell_type": "code",
      "execution_count": null,
      "metadata": {
        "id": "BvDt0ObhUQkV"
      },
      "outputs": [],
      "source": [
        "class kNN:\n",
        "    def __init__(self, k=3, metric='euclidean', p=2):\n",
        "        self.k = k\n",
        "        self.metric = metric\n",
        "        self.p = p\n",
        "\n",
        "    def euclidean(self, v1, v2):\n",
        "        return np.linalg.norm(v1 - v2)\n",
        "\n",
        "    def manhattan(self, v1, v2):\n",
        "        return np.sum(np.abs(v1 - v2))\n",
        "\n",
        "    def minkowski(self, v1, v2, p):\n",
        "        return np.sum(np.abs(v1 - v2) ** p) ** (1 / p)\n",
        "\n",
        "    def fit(self, X, y):\n",
        "        self.X_train = X\n",
        "        self.y_train = y\n",
        "\n",
        "    def get_neighbors(self, test_row):\n",
        "        distances = []\n",
        "        for i, x_train in enumerate(self.X_train):\n",
        "            if self.metric == 'euclidean':\n",
        "                d = self.euclidean(test_row, x_train)\n",
        "            elif self.metric == 'manhattan':\n",
        "                d = self.manhattan(test_row, x_train)\n",
        "            else:\n",
        "                d = self.minkowski(test_row, x_train, self.p)\n",
        "            distances.append((d, i))\n",
        "        distances.sort(key=lambda x: x[0])\n",
        "        idxs = [idx for (_, idx) in distances[: self.k]]\n",
        "        return idxs\n",
        "\n",
        "    def predict(self, X):\n",
        "        preds = []\n",
        "        for row in X:\n",
        "            nbrs = self.get_neighbors(row)\n",
        "            votes = self.y_train[nbrs]\n",
        "            preds.append(np.bincount(votes).argmax())\n",
        "        return np.array(preds)\n"
      ]
    },
    {
      "cell_type": "markdown",
      "metadata": {
        "id": "xRm-_1ItaYcE"
      },
      "source": [
        "## **Evaluate the model**\n"
      ]
    },
    {
      "cell_type": "markdown",
      "metadata": {
        "id": "STn1N6yucQJd"
      },
      "source": [
        "Fine the following performance matrices results:\n",
        "- Accuracy (overall correct rate)\n",
        "\n",
        "- Precision (true positives ÷ predicted positives)\n",
        "\n",
        "- Recall (true positives ÷ actual positives)\n",
        "\n",
        "- Confusion Matrix\n",
        "\n",
        "- Classfication Report"
      ]
    },
    {
      "cell_type": "code",
      "execution_count": null,
      "metadata": {
        "id": "db3uYNTUevss"
      },
      "outputs": [],
      "source": [
        "def evaluate(y_true, y_pred):\n",
        "    print(f\"Accuracy:  {accuracy_score(y_true, y_pred):.4f}\")\n",
        "    print(f\"Precision: {precision_score(y_true, y_pred):.4f}\")\n",
        "    print(f\"Recall:    {recall_score(y_true, y_pred):.4f}\")\n",
        "    print(\"Confusion Matrix:\")\n",
        "    print(confusion_matrix(y_true, y_pred))\n",
        "    print(\"\\nClassification Report:\")\n",
        "    print(classification_report(y_true, y_pred))"
      ]
    },
    {
      "cell_type": "markdown",
      "metadata": {
        "id": "lVR2vTSKekSV"
      },
      "source": [
        "## **Effect of k on Classification Accuracy**\n",
        "\n",
        "- For each k from 3 to 29, fit your k‑NN on the training set and record test accuracy.\n",
        "\n",
        "- Plot k (on the x‑axis) vs. accuracy (on the y‑axis), with markers and clear labels."
      ]
    },
    {
      "cell_type": "code",
      "execution_count": null,
      "metadata": {
        "id": "irtcAFDsU1v0"
      },
      "outputs": [
        {
          "name": "stdout",
          "output_type": "stream",
          "text": [
            "\n",
            "=== k-NN Results (k=3) ===\n",
            "Accuracy:  0.9591\n",
            "Precision: 0.9516\n",
            "Recall:    0.9365\n",
            "Confusion Matrix:\n",
            "[[105   3]\n",
            " [  4  59]]\n",
            "Classification Report:\n",
            "              precision    recall  f1-score   support\n",
            "\n",
            "           0       0.96      0.97      0.97       108\n",
            "           1       0.95      0.94      0.94        63\n",
            "\n",
            "    accuracy                           0.96       171\n",
            "   macro avg       0.96      0.95      0.96       171\n",
            "weighted avg       0.96      0.96      0.96       171\n",
            "\n",
            "\n",
            "=== k-NN Results (k=5) ===\n",
            "Accuracy:  0.9591\n",
            "Precision: 0.9516\n",
            "Recall:    0.9365\n",
            "Confusion Matrix:\n",
            "[[105   3]\n",
            " [  4  59]]\n",
            "Classification Report:\n",
            "              precision    recall  f1-score   support\n",
            "\n",
            "           0       0.96      0.97      0.97       108\n",
            "           1       0.95      0.94      0.94        63\n",
            "\n",
            "    accuracy                           0.96       171\n",
            "   macro avg       0.96      0.95      0.96       171\n",
            "weighted avg       0.96      0.96      0.96       171\n",
            "\n",
            "\n",
            "=== k-NN Results (k=7) ===\n",
            "Accuracy:  0.9591\n",
            "Precision: 0.9516\n",
            "Recall:    0.9365\n",
            "Confusion Matrix:\n",
            "[[105   3]\n",
            " [  4  59]]\n",
            "Classification Report:\n",
            "              precision    recall  f1-score   support\n",
            "\n",
            "           0       0.96      0.97      0.97       108\n",
            "           1       0.95      0.94      0.94        63\n",
            "\n",
            "    accuracy                           0.96       171\n",
            "   macro avg       0.96      0.95      0.96       171\n",
            "weighted avg       0.96      0.96      0.96       171\n",
            "\n",
            "\n",
            "=== k-NN Results (k=9) ===\n",
            "Accuracy:  0.9708\n",
            "Precision: 0.9677\n",
            "Recall:    0.9524\n",
            "Confusion Matrix:\n",
            "[[106   2]\n",
            " [  3  60]]\n",
            "Classification Report:\n",
            "              precision    recall  f1-score   support\n",
            "\n",
            "           0       0.97      0.98      0.98       108\n",
            "           1       0.97      0.95      0.96        63\n",
            "\n",
            "    accuracy                           0.97       171\n",
            "   macro avg       0.97      0.97      0.97       171\n",
            "weighted avg       0.97      0.97      0.97       171\n",
            "\n",
            "\n",
            "=== k-NN Results (k=11) ===\n",
            "Accuracy:  0.9591\n",
            "Precision: 0.9667\n",
            "Recall:    0.9206\n",
            "Confusion Matrix:\n",
            "[[106   2]\n",
            " [  5  58]]\n",
            "Classification Report:\n",
            "              precision    recall  f1-score   support\n",
            "\n",
            "           0       0.95      0.98      0.97       108\n",
            "           1       0.97      0.92      0.94        63\n",
            "\n",
            "    accuracy                           0.96       171\n",
            "   macro avg       0.96      0.95      0.96       171\n",
            "weighted avg       0.96      0.96      0.96       171\n",
            "\n",
            "\n",
            "=== k-NN Results (k=13) ===\n",
            "Accuracy:  0.9591\n",
            "Precision: 0.9667\n",
            "Recall:    0.9206\n",
            "Confusion Matrix:\n",
            "[[106   2]\n",
            " [  5  58]]\n",
            "Classification Report:\n",
            "              precision    recall  f1-score   support\n",
            "\n",
            "           0       0.95      0.98      0.97       108\n",
            "           1       0.97      0.92      0.94        63\n",
            "\n",
            "    accuracy                           0.96       171\n",
            "   macro avg       0.96      0.95      0.96       171\n",
            "weighted avg       0.96      0.96      0.96       171\n",
            "\n",
            "\n",
            "=== k-NN Results (k=15) ===\n",
            "Accuracy:  0.9532\n",
            "Precision: 0.9661\n",
            "Recall:    0.9048\n",
            "Confusion Matrix:\n",
            "[[106   2]\n",
            " [  6  57]]\n",
            "Classification Report:\n",
            "              precision    recall  f1-score   support\n",
            "\n",
            "           0       0.95      0.98      0.96       108\n",
            "           1       0.97      0.90      0.93        63\n",
            "\n",
            "    accuracy                           0.95       171\n",
            "   macro avg       0.96      0.94      0.95       171\n",
            "weighted avg       0.95      0.95      0.95       171\n",
            "\n",
            "\n",
            "=== k-NN Results (k=17) ===\n",
            "Accuracy:  0.9532\n",
            "Precision: 0.9661\n",
            "Recall:    0.9048\n",
            "Confusion Matrix:\n",
            "[[106   2]\n",
            " [  6  57]]\n",
            "Classification Report:\n",
            "              precision    recall  f1-score   support\n",
            "\n",
            "           0       0.95      0.98      0.96       108\n",
            "           1       0.97      0.90      0.93        63\n",
            "\n",
            "    accuracy                           0.95       171\n",
            "   macro avg       0.96      0.94      0.95       171\n",
            "weighted avg       0.95      0.95      0.95       171\n",
            "\n",
            "\n",
            "=== k-NN Results (k=19) ===\n",
            "Accuracy:  0.9532\n",
            "Precision: 0.9825\n",
            "Recall:    0.8889\n",
            "Confusion Matrix:\n",
            "[[107   1]\n",
            " [  7  56]]\n",
            "Classification Report:\n",
            "              precision    recall  f1-score   support\n",
            "\n",
            "           0       0.94      0.99      0.96       108\n",
            "           1       0.98      0.89      0.93        63\n",
            "\n",
            "    accuracy                           0.95       171\n",
            "   macro avg       0.96      0.94      0.95       171\n",
            "weighted avg       0.95      0.95      0.95       171\n",
            "\n",
            "\n",
            "=== k-NN Results (k=21) ===\n",
            "Accuracy:  0.9591\n",
            "Precision: 0.9828\n",
            "Recall:    0.9048\n",
            "Confusion Matrix:\n",
            "[[107   1]\n",
            " [  6  57]]\n",
            "Classification Report:\n",
            "              precision    recall  f1-score   support\n",
            "\n",
            "           0       0.95      0.99      0.97       108\n",
            "           1       0.98      0.90      0.94        63\n",
            "\n",
            "    accuracy                           0.96       171\n",
            "   macro avg       0.96      0.95      0.96       171\n",
            "weighted avg       0.96      0.96      0.96       171\n",
            "\n",
            "\n",
            "=== k-NN Results (k=23) ===\n",
            "Accuracy:  0.9532\n",
            "Precision: 0.9825\n",
            "Recall:    0.8889\n",
            "Confusion Matrix:\n",
            "[[107   1]\n",
            " [  7  56]]\n",
            "Classification Report:\n",
            "              precision    recall  f1-score   support\n",
            "\n",
            "           0       0.94      0.99      0.96       108\n",
            "           1       0.98      0.89      0.93        63\n",
            "\n",
            "    accuracy                           0.95       171\n",
            "   macro avg       0.96      0.94      0.95       171\n",
            "weighted avg       0.95      0.95      0.95       171\n",
            "\n",
            "\n",
            "=== k-NN Results (k=25) ===\n",
            "Accuracy:  0.9532\n",
            "Precision: 0.9825\n",
            "Recall:    0.8889\n",
            "Confusion Matrix:\n",
            "[[107   1]\n",
            " [  7  56]]\n",
            "Classification Report:\n",
            "              precision    recall  f1-score   support\n",
            "\n",
            "           0       0.94      0.99      0.96       108\n",
            "           1       0.98      0.89      0.93        63\n",
            "\n",
            "    accuracy                           0.95       171\n",
            "   macro avg       0.96      0.94      0.95       171\n",
            "weighted avg       0.95      0.95      0.95       171\n",
            "\n",
            "\n",
            "=== k-NN Results (k=27) ===\n",
            "Accuracy:  0.9532\n",
            "Precision: 0.9825\n",
            "Recall:    0.8889\n",
            "Confusion Matrix:\n",
            "[[107   1]\n",
            " [  7  56]]\n",
            "Classification Report:\n",
            "              precision    recall  f1-score   support\n",
            "\n",
            "           0       0.94      0.99      0.96       108\n",
            "           1       0.98      0.89      0.93        63\n",
            "\n",
            "    accuracy                           0.95       171\n",
            "   macro avg       0.96      0.94      0.95       171\n",
            "weighted avg       0.95      0.95      0.95       171\n",
            "\n",
            "\n",
            "=== k-NN Results (k=29) ===\n",
            "Accuracy:  0.9532\n",
            "Precision: 0.9825\n",
            "Recall:    0.8889\n",
            "Confusion Matrix:\n",
            "[[107   1]\n",
            " [  7  56]]\n",
            "Classification Report:\n",
            "              precision    recall  f1-score   support\n",
            "\n",
            "           0       0.94      0.99      0.96       108\n",
            "           1       0.98      0.89      0.93        63\n",
            "\n",
            "    accuracy                           0.95       171\n",
            "   macro avg       0.96      0.94      0.95       171\n",
            "weighted avg       0.95      0.95      0.95       171\n",
            "\n"
          ]
        },
        {
          "data": {
            "image/png": "[encoded data removed]",
            "text/plain": [
              "<Figure size 640x480 with 1 Axes>"
            ]
          },
          "metadata": {},
          "output_type": "display_data"
        }
      ],
      "source": [
        "ks = range(3, 30, 2)\n",
        "results = {'k': [], 'accuracy': [], 'precision': [], 'recall': []}\n",
        "\n",
        "for k in ks:\n",
        "    knn = kNN(k=k)\n",
        "    knn.fit(X_train, y_train)\n",
        "    y_pred = knn.predict(X_test)\n",
        "\n",
        "    acc = accuracy_score(y_test, y_pred)\n",
        "    prec = precision_score(y_test, y_pred)\n",
        "    rec = recall_score(y_test, y_pred)\n",
        "\n",
        "    results['k'].append(k)\n",
        "    results['accuracy'].append(acc)\n",
        "    results['precision'].append(prec)\n",
        "    results['recall'].append(rec)\n",
        "\n",
        "    print(f\"\\n=== k-NN Results (k={k}) ===\")\n",
        "    print(f\"Accuracy:  {acc:.4f}\")\n",
        "    print(f\"Precision: {prec:.4f}\")\n",
        "    print(f\"Recall:    {rec:.4f}\")\n",
        "    print(\"Confusion Matrix:\")\n",
        "    print(confusion_matrix(y_test, y_pred))\n",
        "    print(\"Classification Report:\")\n",
        "    print(classification_report(y_test, y_pred))\n",
        "\n",
        "\n",
        "\n",
        "plt.figure()\n",
        "plt.plot(results['k'], results['accuracy'], marker='o', label='Accuracy')\n",
        "plt.plot(results['k'], results['precision'], marker='s', label='Precision')\n",
        "plt.plot(results['k'], results['recall'], marker='^', label='Recall')\n",
        "plt.xlabel('k')\n",
        "plt.ylabel('Score')\n",
        "plt.title('k vs. Performance Metrics')\n",
        "plt.legend()\n",
        "plt.show()\n"
      ]
    }
  ],
  "metadata": {
    "colab": {
      "provenance": []
    },
    "kernelspec": {
      "display_name": "Python 3",
      "name": "python3"
    },
    "language_info": {
      "codemirror_mode": {
        "name": "ipython",
        "version": 3
      },
      "file_extension": ".py",
      "mimetype": "text/x-python",
      "name": "python",
      "nbconvert_exporter": "python",
      "pygments_lexer": "ipython3",
      "version": "3.13.2"
    }
  },
  "nbformat": 4,
  "nbformat_minor": 0
}
