{
  "nbformat": 4,
  "nbformat_minor": 0,
  "metadata": {
    "colab": {
      "provenance": []
    },
    "kernelspec": {
      "name": "python3",
      "display_name": "Python 3"
    },
    "language_info": {
      "name": "python"
    }
  },
  "cells": [
    {
      "cell_type": "markdown",
      "source": [
        "# **Importing Required Libraries**"
      ],
      "metadata": {
        "id": "h8bf5rpCNw8J"
      }
    },
    {
      "cell_type": "code",
      "execution_count": 29,
      "metadata": {
        "id": "YB3-7g7QNwHI"
      },
      "outputs": [],
      "source": [
        "import pandas as pd\n",
        "import seaborn as sns\n",
        "import matplotlib.pyplot as plt\n",
        "import numpy as np\n",
        "from sklearn.preprocessing import LabelEncoder,OneHotEncoder\n",
        "from sklearn.impute import SimpleImputer"
      ]
    },
    {
      "cell_type": "markdown",
      "source": [
        "# **Step 1 : Data Loading**"
      ],
      "metadata": {
        "id": "IgnUOrf7N-T7"
      }
    },
    {
      "cell_type": "code",
      "source": [
        "url = \"https://archive.ics.uci.edu/ml/machine-learning-databases/adult/adult.data\"\n",
        "df = pd.read_csv(url, header=None, names=['age', 'workclass', 'fnlwgt', 'education', 'education-num', 'marital-status',\n",
        "           'occupation', 'relationship', 'race', 'sex', 'capital-gain',\n",
        "           'capital-loss', 'hours-per-week', 'native-country', 'income']\n",
        ", na_values=' ?', skipinitialspace=True, delimiter=',')"
      ],
      "metadata": {
        "id": "B4i7sH8kN1WN"
      },
      "execution_count": 30,
      "outputs": []
    },
    {
      "cell_type": "code",
      "source": [
        "df.head()"
      ],
      "metadata": {
        "colab": {
          "base_uri": "https://localhost:8080/",
          "height": 310
        },
        "id": "iBm47arNOHK8",
        "outputId": "3bb0bd04-d6f6-4341-e76f-1a0dc67d071d"
      },
      "execution_count": 31,
      "outputs": [
        {
          "output_type": "execute_result",
          "data": {
            "text/plain": [
              "   age         workclass  fnlwgt  education  education-num  \\\n",
              "0   39         State-gov   77516  Bachelors             13   \n",
              "1   50  Self-emp-not-inc   83311  Bachelors             13   \n",
              "2   38           Private  215646    HS-grad              9   \n",
              "3   53           Private  234721       11th              7   \n",
              "4   28           Private  338409  Bachelors             13   \n",
              "\n",
              "       marital-status         occupation   relationship   race     sex  \\\n",
              "0       Never-married       Adm-clerical  Not-in-family  White    Male   \n",
              "1  Married-civ-spouse    Exec-managerial        Husband  White    Male   \n",
              "2            Divorced  Handlers-cleaners  Not-in-family  White    Male   \n",
              "3  Married-civ-spouse  Handlers-cleaners        Husband  Black    Male   \n",
              "4  Married-civ-spouse     Prof-specialty           Wife  Black  Female   \n",
              "\n",
              "   capital-gain  capital-loss  hours-per-week native-country income  \n",
              "0          2174             0              40  United-States  <=50K  \n",
              "1             0             0              13  United-States  <=50K  \n",
              "2             0             0              40  United-States  <=50K  \n",
              "3             0             0              40  United-States  <=50K  \n",
              "4             0             0              40           Cuba  <=50K  "
            ],
            "text/html": [
              "\n",
              "  <div id=\"df-3f7af97b-50ab-4fd4-abe2-c8c428615e0d\" class=\"colab-df-container\">\n",
              "    <div>\n",
              "<style scoped>\n",
              "    .dataframe tbody tr th:only-of-type {\n",
              "        vertical-align: middle;\n",
              "    }\n",
              "\n",
              "    .dataframe tbody tr th {\n",
              "        vertical-align: top;\n",
              "    }\n",
              "\n",
              "    .dataframe thead th {\n",
              "        text-align: right;\n",
              "    }\n",
              "</style>\n",
              "<table border=\"1\" class=\"dataframe\">\n",
              "  <thead>\n",
              "    <tr style=\"text-align: right;\">\n",
              "      <th></th>\n",
              "      <th>age</th>\n",
              "      <th>workclass</th>\n",
              "      <th>fnlwgt</th>\n",
              "      <th>education</th>\n",
              "      <th>education-num</th>\n",
              "      <th>marital-status</th>\n",
              "      <th>occupation</th>\n",
              "      <th>relationship</th>\n",
              "      <th>race</th>\n",
              "      <th>sex</th>\n",
              "      <th>capital-gain</th>\n",
              "      <th>capital-loss</th>\n",
              "      <th>hours-per-week</th>\n",
              "      <th>native-country</th>\n",
              "      <th>income</th>\n",
              "    </tr>\n",
              "  </thead>\n",
              "  <tbody>\n",
              "    <tr>\n",
              "      <th>0</th>\n",
              "      <td>39</td>\n",
              "      <td>State-gov</td>\n",
              "      <td>77516</td>\n",
              "      <td>Bachelors</td>\n",
              "      <td>13</td>\n",
              "      <td>Never-married</td>\n",
              "      <td>Adm-clerical</td>\n",
              "      <td>Not-in-family</td>\n",
              "      <td>White</td>\n",
              "      <td>Male</td>\n",
              "      <td>2174</td>\n",
              "      <td>0</td>\n",
              "      <td>40</td>\n",
              "      <td>United-States</td>\n",
              "      <td>&lt;=50K</td>\n",
              "    </tr>\n",
              "    <tr>\n",
              "      <th>1</th>\n",
              "      <td>50</td>\n",
              "      <td>Self-emp-not-inc</td>\n",
              "      <td>83311</td>\n",
              "      <td>Bachelors</td>\n",
              "      <td>13</td>\n",
              "      <td>Married-civ-spouse</td>\n",
              "      <td>Exec-managerial</td>\n",
              "      <td>Husband</td>\n",
              "      <td>White</td>\n",
              "      <td>Male</td>\n",
              "      <td>0</td>\n",
              "      <td>0</td>\n",
              "      <td>13</td>\n",
              "      <td>United-States</td>\n",
              "      <td>&lt;=50K</td>\n",
              "    </tr>\n",
              "    <tr>\n",
              "      <th>2</th>\n",
              "      <td>38</td>\n",
              "      <td>Private</td>\n",
              "      <td>215646</td>\n",
              "      <td>HS-grad</td>\n",
              "      <td>9</td>\n",
              "      <td>Divorced</td>\n",
              "      <td>Handlers-cleaners</td>\n",
              "      <td>Not-in-family</td>\n",
              "      <td>White</td>\n",
              "      <td>Male</td>\n",
              "      <td>0</td>\n",
              "      <td>0</td>\n",
              "      <td>40</td>\n",
              "      <td>United-States</td>\n",
              "      <td>&lt;=50K</td>\n",
              "    </tr>\n",
              "    <tr>\n",
              "      <th>3</th>\n",
              "      <td>53</td>\n",
              "      <td>Private</td>\n",
              "      <td>234721</td>\n",
              "      <td>11th</td>\n",
              "      <td>7</td>\n",
              "      <td>Married-civ-spouse</td>\n",
              "      <td>Handlers-cleaners</td>\n",
              "      <td>Husband</td>\n",
              "      <td>Black</td>\n",
              "      <td>Male</td>\n",
              "      <td>0</td>\n",
              "      <td>0</td>\n",
              "      <td>40</td>\n",
              "      <td>United-States</td>\n",
              "      <td>&lt;=50K</td>\n",
              "    </tr>\n",
              "    <tr>\n",
              "      <th>4</th>\n",
              "      <td>28</td>\n",
              "      <td>Private</td>\n",
              "      <td>338409</td>\n",
              "      <td>Bachelors</td>\n",
              "      <td>13</td>\n",
              "      <td>Married-civ-spouse</td>\n",
              "      <td>Prof-specialty</td>\n",
              "      <td>Wife</td>\n",
              "      <td>Black</td>\n",
              "      <td>Female</td>\n",
              "      <td>0</td>\n",
              "      <td>0</td>\n",
              "      <td>40</td>\n",
              "      <td>Cuba</td>\n",
              "      <td>&lt;=50K</td>\n",
              "    </tr>\n",
              "  </tbody>\n",
              "</table>\n",
              "</div>\n",
              "    <div class=\"colab-df-buttons\">\n",
              "\n",
              "  <div class=\"colab-df-container\">\n",
              "    <button class=\"colab-df-convert\" onclick=\"convertToInteractive('df-3f7af97b-50ab-4fd4-abe2-c8c428615e0d')\"\n",
              "            title=\"Convert this dataframe to an interactive table.\"\n",
              "            style=\"display:none;\">\n",
              "\n",
              "  <svg xmlns=\"http://www.w3.org/2000/svg\" height=\"24px\" viewBox=\"0 -960 960 960\">\n",
              "    <path d=\"M120-120v-720h720v720H120Zm60-500h600v-160H180v160Zm220 220h160v-160H400v160Zm0 220h160v-160H400v160ZM180-400h160v-160H180v160Zm440 0h160v-160H620v160ZM180-180h160v-160H180v160Zm440 0h160v-160H620v160Z\"/>\n",
              "  </svg>\n",
              "    </button>\n",
              "\n",
              "  <style>\n",
              "    .colab-df-container {\n",
              "      display:flex;\n",
              "      gap: 12px;\n",
              "    }\n",
              "\n",
              "    .colab-df-convert {\n",
              "      background-color: #E8F0FE;\n",
              "      border: none;\n",
              "      border-radius: 50%;\n",
              "      cursor: pointer;\n",
              "      display: none;\n",
              "      fill: #1967D2;\n",
              "      height: 32px;\n",
              "      padding: 0 0 0 0;\n",
              "      width: 32px;\n",
              "    }\n",
              "\n",
              "    .colab-df-convert:hover {\n",
              "      background-color: #E2EBFA;\n",
              "      box-shadow: 0px 1px 2px rgba(60, 64, 67, 0.3), 0px 1px 3px 1px rgba(60, 64, 67, 0.15);\n",
              "      fill: #174EA6;\n",
              "    }\n",
              "\n",
              "    .colab-df-buttons div {\n",
              "      margin-bottom: 4px;\n",
              "    }\n",
              "\n",
              "    [theme=dark] .colab-df-convert {\n",
              "      background-color: #3B4455;\n",
              "      fill: #D2E3FC;\n",
              "    }\n",
              "\n",
              "    [theme=dark] .colab-df-convert:hover {\n",
              "      background-color: #434B5C;\n",
              "      box-shadow: 0px 1px 3px 1px rgba(0, 0, 0, 0.15);\n",
              "      filter: drop-shadow(0px 1px 2px rgba(0, 0, 0, 0.3));\n",
              "      fill: #FFFFFF;\n",
              "    }\n",
              "  </style>\n",
              "\n",
              "    <script>\n",
              "      const buttonEl =\n",
              "        document.querySelector('#df-3f7af97b-50ab-4fd4-abe2-c8c428615e0d button.colab-df-convert');\n",
              "      buttonEl.style.display =\n",
              "        google.colab.kernel.accessAllowed ? 'block' : 'none';\n",
              "\n",
              "      async function convertToInteractive(key) {\n",
              "        const element = document.querySelector('#df-3f7af97b-50ab-4fd4-abe2-c8c428615e0d');\n",
              "        const dataTable =\n",
              "          await google.colab.kernel.invokeFunction('convertToInteractive',\n",
              "                                                    [key], {});\n",
              "        if (!dataTable) return;\n",
              "\n",
              "        const docLinkHtml = 'Like what you see? Visit the ' +\n",
              "          '<a target=\"_blank\" href=https://colab.research.google.com/notebooks/data_table.ipynb>data table notebook</a>'\n",
              "          + ' to learn more about interactive tables.';\n",
              "        element.innerHTML = '';\n",
              "        dataTable['output_type'] = 'display_data';\n",
              "        await google.colab.output.renderOutput(dataTable, element);\n",
              "        const docLink = document.createElement('div');\n",
              "        docLink.innerHTML = docLinkHtml;\n",
              "        element.appendChild(docLink);\n",
              "      }\n",
              "    </script>\n",
              "  </div>\n",
              "\n",
              "\n",
              "<div id=\"df-a0d1a748-ab42-4982-8d71-bafcbefe194e\">\n",
              "  <button class=\"colab-df-quickchart\" onclick=\"quickchart('df-a0d1a748-ab42-4982-8d71-bafcbefe194e')\"\n",
              "            title=\"Suggest charts\"\n",
              "            style=\"display:none;\">\n",
              "\n",
              "<svg xmlns=\"http://www.w3.org/2000/svg\" height=\"24px\"viewBox=\"0 0 24 24\"\n",
              "     width=\"24px\">\n",
              "    <g>\n",
              "        <path d=\"M19 3H5c-1.1 0-2 .9-2 2v14c0 1.1.9 2 2 2h14c1.1 0 2-.9 2-2V5c0-1.1-.9-2-2-2zM9 17H7v-7h2v7zm4 0h-2V7h2v10zm4 0h-2v-4h2v4z\"/>\n",
              "    </g>\n",
              "</svg>\n",
              "  </button>\n",
              "\n",
              "<style>\n",
              "  .colab-df-quickchart {\n",
              "      --bg-color: #E8F0FE;\n",
              "      --fill-color: #1967D2;\n",
              "      --hover-bg-color: #E2EBFA;\n",
              "      --hover-fill-color: #174EA6;\n",
              "      --disabled-fill-color: #AAA;\n",
              "      --disabled-bg-color: #DDD;\n",
              "  }\n",
              "\n",
              "  [theme=dark] .colab-df-quickchart {\n",
              "      --bg-color: #3B4455;\n",
              "      --fill-color: #D2E3FC;\n",
              "      --hover-bg-color: #434B5C;\n",
              "      --hover-fill-color: #FFFFFF;\n",
              "      --disabled-bg-color: #3B4455;\n",
              "      --disabled-fill-color: #666;\n",
              "  }\n",
              "\n",
              "  .colab-df-quickchart {\n",
              "    background-color: var(--bg-color);\n",
              "    border: none;\n",
              "    border-radius: 50%;\n",
              "    cursor: pointer;\n",
              "    display: none;\n",
              "    fill: var(--fill-color);\n",
              "    height: 32px;\n",
              "    padding: 0;\n",
              "    width: 32px;\n",
              "  }\n",
              "\n",
              "  .colab-df-quickchart:hover {\n",
              "    background-color: var(--hover-bg-color);\n",
              "    box-shadow: 0 1px 2px rgba(60, 64, 67, 0.3), 0 1px 3px 1px rgba(60, 64, 67, 0.15);\n",
              "    fill: var(--button-hover-fill-color);\n",
              "  }\n",
              "\n",
              "  .colab-df-quickchart-complete:disabled,\n",
              "  .colab-df-quickchart-complete:disabled:hover {\n",
              "    background-color: var(--disabled-bg-color);\n",
              "    fill: var(--disabled-fill-color);\n",
              "    box-shadow: none;\n",
              "  }\n",
              "\n",
              "  .colab-df-spinner {\n",
              "    border: 2px solid var(--fill-color);\n",
              "    border-color: transparent;\n",
              "    border-bottom-color: var(--fill-color);\n",
              "    animation:\n",
              "      spin 1s steps(1) infinite;\n",
              "  }\n",
              "\n",
              "  @keyframes spin {\n",
              "    0% {\n",
              "      border-color: transparent;\n",
              "      border-bottom-color: var(--fill-color);\n",
              "      border-left-color: var(--fill-color);\n",
              "    }\n",
              "    20% {\n",
              "      border-color: transparent;\n",
              "      border-left-color: var(--fill-color);\n",
              "      border-top-color: var(--fill-color);\n",
              "    }\n",
              "    30% {\n",
              "      border-color: transparent;\n",
              "      border-left-color: var(--fill-color);\n",
              "      border-top-color: var(--fill-color);\n",
              "      border-right-color: var(--fill-color);\n",
              "    }\n",
              "    40% {\n",
              "      border-color: transparent;\n",
              "      border-right-color: var(--fill-color);\n",
              "      border-top-color: var(--fill-color);\n",
              "    }\n",
              "    60% {\n",
              "      border-color: transparent;\n",
              "      border-right-color: var(--fill-color);\n",
              "    }\n",
              "    80% {\n",
              "      border-color: transparent;\n",
              "      border-right-color: var(--fill-color);\n",
              "      border-bottom-color: var(--fill-color);\n",
              "    }\n",
              "    90% {\n",
              "      border-color: transparent;\n",
              "      border-bottom-color: var(--fill-color);\n",
              "    }\n",
              "  }\n",
              "</style>\n",
              "\n",
              "  <script>\n",
              "    async function quickchart(key) {\n",
              "      const quickchartButtonEl =\n",
              "        document.querySelector('#' + key + ' button');\n",
              "      quickchartButtonEl.disabled = true;  // To prevent multiple clicks.\n",
              "      quickchartButtonEl.classList.add('colab-df-spinner');\n",
              "      try {\n",
              "        const charts = await google.colab.kernel.invokeFunction(\n",
              "            'suggestCharts', [key], {});\n",
              "      } catch (error) {\n",
              "        console.error('Error during call to suggestCharts:', error);\n",
              "      }\n",
              "      quickchartButtonEl.classList.remove('colab-df-spinner');\n",
              "      quickchartButtonEl.classList.add('colab-df-quickchart-complete');\n",
              "    }\n",
              "    (() => {\n",
              "      let quickchartButtonEl =\n",
              "        document.querySelector('#df-a0d1a748-ab42-4982-8d71-bafcbefe194e button');\n",
              "      quickchartButtonEl.style.display =\n",
              "        google.colab.kernel.accessAllowed ? 'block' : 'none';\n",
              "    })();\n",
              "  </script>\n",
              "</div>\n",
              "\n",
              "    </div>\n",
              "  </div>\n"
            ],
            "application/vnd.google.colaboratory.intrinsic+json": {
              "type": "dataframe",
              "variable_name": "df",
              "summary": "{\n  \"name\": \"df\",\n  \"rows\": 32561,\n  \"fields\": [\n    {\n      \"column\": \"age\",\n      \"properties\": {\n        \"dtype\": \"number\",\n        \"std\": 13,\n        \"min\": 17,\n        \"max\": 90,\n        \"num_unique_values\": 73,\n        \"samples\": [\n          28,\n          73,\n          35\n        ],\n        \"semantic_type\": \"\",\n        \"description\": \"\"\n      }\n    },\n    {\n      \"column\": \"workclass\",\n      \"properties\": {\n        \"dtype\": \"category\",\n        \"num_unique_values\": 9,\n        \"samples\": [\n          \"Without-pay\",\n          \"Self-emp-not-inc\",\n          \"?\"\n        ],\n        \"semantic_type\": \"\",\n        \"description\": \"\"\n      }\n    },\n    {\n      \"column\": \"fnlwgt\",\n      \"properties\": {\n        \"dtype\": \"number\",\n        \"std\": 105549,\n        \"min\": 12285,\n        \"max\": 1484705,\n        \"num_unique_values\": 21648,\n        \"samples\": [\n          128485,\n          469907,\n          235951\n        ],\n        \"semantic_type\": \"\",\n        \"description\": \"\"\n      }\n    },\n    {\n      \"column\": \"education\",\n      \"properties\": {\n        \"dtype\": \"category\",\n        \"num_unique_values\": 16,\n        \"samples\": [\n          \"Bachelors\",\n          \"HS-grad\",\n          \"Some-college\"\n        ],\n        \"semantic_type\": \"\",\n        \"description\": \"\"\n      }\n    },\n    {\n      \"column\": \"education-num\",\n      \"properties\": {\n        \"dtype\": \"number\",\n        \"std\": 2,\n        \"min\": 1,\n        \"max\": 16,\n        \"num_unique_values\": 16,\n        \"samples\": [\n          13,\n          9,\n          10\n        ],\n        \"semantic_type\": \"\",\n        \"description\": \"\"\n      }\n    },\n    {\n      \"column\": \"marital-status\",\n      \"properties\": {\n        \"dtype\": \"category\",\n        \"num_unique_values\": 7,\n        \"samples\": [\n          \"Never-married\",\n          \"Married-civ-spouse\",\n          \"Married-AF-spouse\"\n        ],\n        \"semantic_type\": \"\",\n        \"description\": \"\"\n      }\n    },\n    {\n      \"column\": \"occupation\",\n      \"properties\": {\n        \"dtype\": \"category\",\n        \"num_unique_values\": 15,\n        \"samples\": [\n          \"Machine-op-inspct\",\n          \"?\",\n          \"Adm-clerical\"\n        ],\n        \"semantic_type\": \"\",\n        \"description\": \"\"\n      }\n    },\n    {\n      \"column\": \"relationship\",\n      \"properties\": {\n        \"dtype\": \"category\",\n        \"num_unique_values\": 6,\n        \"samples\": [\n          \"Not-in-family\",\n          \"Husband\",\n          \"Other-relative\"\n        ],\n        \"semantic_type\": \"\",\n        \"description\": \"\"\n      }\n    },\n    {\n      \"column\": \"race\",\n      \"properties\": {\n        \"dtype\": \"category\",\n        \"num_unique_values\": 5,\n        \"samples\": [\n          \"Black\",\n          \"Other\",\n          \"Asian-Pac-Islander\"\n        ],\n        \"semantic_type\": \"\",\n        \"description\": \"\"\n      }\n    },\n    {\n      \"column\": \"sex\",\n      \"properties\": {\n        \"dtype\": \"category\",\n        \"num_unique_values\": 2,\n        \"samples\": [\n          \"Female\",\n          \"Male\"\n        ],\n        \"semantic_type\": \"\",\n        \"description\": \"\"\n      }\n    },\n    {\n      \"column\": \"capital-gain\",\n      \"properties\": {\n        \"dtype\": \"number\",\n        \"std\": 7385,\n        \"min\": 0,\n        \"max\": 99999,\n        \"num_unique_values\": 119,\n        \"samples\": [\n          3781,\n          15831\n        ],\n        \"semantic_type\": \"\",\n        \"description\": \"\"\n      }\n    },\n    {\n      \"column\": \"capital-loss\",\n      \"properties\": {\n        \"dtype\": \"number\",\n        \"std\": 402,\n        \"min\": 0,\n        \"max\": 4356,\n        \"num_unique_values\": 92,\n        \"samples\": [\n          419,\n          2051\n        ],\n        \"semantic_type\": \"\",\n        \"description\": \"\"\n      }\n    },\n    {\n      \"column\": \"hours-per-week\",\n      \"properties\": {\n        \"dtype\": \"number\",\n        \"std\": 12,\n        \"min\": 1,\n        \"max\": 99,\n        \"num_unique_values\": 94,\n        \"samples\": [\n          6,\n          22\n        ],\n        \"semantic_type\": \"\",\n        \"description\": \"\"\n      }\n    },\n    {\n      \"column\": \"native-country\",\n      \"properties\": {\n        \"dtype\": \"category\",\n        \"num_unique_values\": 42,\n        \"samples\": [\n          \"El-Salvador\",\n          \"Philippines\"\n        ],\n        \"semantic_type\": \"\",\n        \"description\": \"\"\n      }\n    },\n    {\n      \"column\": \"income\",\n      \"properties\": {\n        \"dtype\": \"category\",\n        \"num_unique_values\": 2,\n        \"samples\": [\n          \">50K\",\n          \"<=50K\"\n        ],\n        \"semantic_type\": \"\",\n        \"description\": \"\"\n      }\n    }\n  ]\n}"
            }
          },
          "metadata": {},
          "execution_count": 31
        }
      ]
    },
    {
      "cell_type": "markdown",
      "source": [
        "# **Step 2 : Initial Data Inspection and Cleaning**"
      ],
      "metadata": {
        "id": "zrTpgE7OVHUr"
      }
    },
    {
      "cell_type": "markdown",
      "source": [
        "### Step 2.1 : Display dataset information and preview data\n",
        "\n",
        "**Preview Data:** Using head() lets students see the actual records, which is critical for understanding the context of the data.\n",
        "\n",
        "**Dataset Info:** The info() function shows non-null counts and datatypes, which helps in quickly spotting missing values or incorrect data formats.\n",
        "\n"
      ],
      "metadata": {
        "id": "b5EQb648GwH_"
      }
    },
    {
      "cell_type": "code",
      "source": [
        "# Display dataset information and preview data\n",
        "# -> Display the first 5 rows and print the basic states for data\n",
        "# -> Hint: head and info\n",
        "\n",
        "print(\"Dataset Information:\")\n",
        "print(df.info())\n",
        "\n",
        "print(\"\\nFirst 5 rows of the dataset:\")\n",
        "print(df.head())\n"
      ],
      "metadata": {
        "id": "iWouYpAbOwem",
        "colab": {
          "base_uri": "https://localhost:8080/"
        },
        "outputId": "0d8af885-17c8-4814-8d92-fb9ce06db17b"
      },
      "execution_count": 32,
      "outputs": [
        {
          "output_type": "stream",
          "name": "stdout",
          "text": [
            "Dataset Information:\n",
            "<class 'pandas.core.frame.DataFrame'>\n",
            "RangeIndex: 32561 entries, 0 to 32560\n",
            "Data columns (total 15 columns):\n",
            " #   Column          Non-Null Count  Dtype \n",
            "---  ------          --------------  ----- \n",
            " 0   age             32561 non-null  int64 \n",
            " 1   workclass       32561 non-null  object\n",
            " 2   fnlwgt          32561 non-null  int64 \n",
            " 3   education       32561 non-null  object\n",
            " 4   education-num   32561 non-null  int64 \n",
            " 5   marital-status  32561 non-null  object\n",
            " 6   occupation      32561 non-null  object\n",
            " 7   relationship    32561 non-null  object\n",
            " 8   race            32561 non-null  object\n",
            " 9   sex             32561 non-null  object\n",
            " 10  capital-gain    32561 non-null  int64 \n",
            " 11  capital-loss    32561 non-null  int64 \n",
            " 12  hours-per-week  32561 non-null  int64 \n",
            " 13  native-country  32561 non-null  object\n",
            " 14  income          32561 non-null  object\n",
            "dtypes: int64(6), object(9)\n",
            "memory usage: 3.7+ MB\n",
            "None\n",
            "\n",
            "First 5 rows of the dataset:\n",
            "   age         workclass  fnlwgt  education  education-num  \\\n",
            "0   39         State-gov   77516  Bachelors             13   \n",
            "1   50  Self-emp-not-inc   83311  Bachelors             13   \n",
            "2   38           Private  215646    HS-grad              9   \n",
            "3   53           Private  234721       11th              7   \n",
            "4   28           Private  338409  Bachelors             13   \n",
            "\n",
            "       marital-status         occupation   relationship   race     sex  \\\n",
            "0       Never-married       Adm-clerical  Not-in-family  White    Male   \n",
            "1  Married-civ-spouse    Exec-managerial        Husband  White    Male   \n",
            "2            Divorced  Handlers-cleaners  Not-in-family  White    Male   \n",
            "3  Married-civ-spouse  Handlers-cleaners        Husband  Black    Male   \n",
            "4  Married-civ-spouse     Prof-specialty           Wife  Black  Female   \n",
            "\n",
            "   capital-gain  capital-loss  hours-per-week native-country income  \n",
            "0          2174             0              40  United-States  <=50K  \n",
            "1             0             0              13  United-States  <=50K  \n",
            "2             0             0              40  United-States  <=50K  \n",
            "3             0             0              40  United-States  <=50K  \n",
            "4             0             0              40           Cuba  <=50K  \n"
          ]
        }
      ]
    },
    {
      "cell_type": "markdown",
      "source": [
        "**Dataset Dimensions:** Knowing the shape of the data informs students about its scale, which can affect computation time and choice of algorithms."
      ],
      "metadata": {
        "id": "xjsOPQ2Bn6T1"
      }
    },
    {
      "cell_type": "code",
      "source": [
        "# Display the dimension of the data\n",
        "# -> Hint : shape\n",
        "print(\"Dimension of the dataset:\")\n",
        "print(df.shape)"
      ],
      "metadata": {
        "id": "XKja8Ls0UU9S",
        "colab": {
          "base_uri": "https://localhost:8080/"
        },
        "outputId": "7df4c938-f53a-46e5-925a-22c58f6b2edd"
      },
      "execution_count": 33,
      "outputs": [
        {
          "output_type": "stream",
          "name": "stdout",
          "text": [
            "Dimension of the dataset:\n",
            "(32561, 15)\n"
          ]
        }
      ]
    },
    {
      "cell_type": "markdown",
      "source": [
        "### **Step 2.2 : Basic Statistical Summary:**\n",
        "\n",
        "The describe() function provides vital statistics (min, max, mean, standard deviation) that help identify any outliers or anomalies in numerical columns."
      ],
      "metadata": {
        "id": "vpDOCBUhoBEa"
      }
    },
    {
      "cell_type": "code",
      "source": [
        "# Check the min , max , count , means , standard diviation etc\n",
        "# Hint -> describe\n",
        "print(\"Basic Statistical Summary:\")\n",
        "print(df.describe())"
      ],
      "metadata": {
        "id": "2NnzpfSUUhdi",
        "colab": {
          "base_uri": "https://localhost:8080/"
        },
        "outputId": "3c982cdd-63f6-42a6-cebe-0f1110b37810"
      },
      "execution_count": 34,
      "outputs": [
        {
          "output_type": "stream",
          "name": "stdout",
          "text": [
            "Basic Statistical Summary:\n",
            "                age        fnlwgt  education-num  capital-gain  capital-loss  \\\n",
            "count  32561.000000  3.256100e+04   32561.000000  32561.000000  32561.000000   \n",
            "mean      38.581647  1.897784e+05      10.080679   1077.648844     87.303830   \n",
            "std       13.640433  1.055500e+05       2.572720   7385.292085    402.960219   \n",
            "min       17.000000  1.228500e+04       1.000000      0.000000      0.000000   \n",
            "25%       28.000000  1.178270e+05       9.000000      0.000000      0.000000   \n",
            "50%       37.000000  1.783560e+05      10.000000      0.000000      0.000000   \n",
            "75%       48.000000  2.370510e+05      12.000000      0.000000      0.000000   \n",
            "max       90.000000  1.484705e+06      16.000000  99999.000000   4356.000000   \n",
            "\n",
            "       hours-per-week  \n",
            "count    32561.000000  \n",
            "mean        40.437456  \n",
            "std         12.347429  \n",
            "min          1.000000  \n",
            "25%         40.000000  \n",
            "50%         40.000000  \n",
            "75%         45.000000  \n",
            "max         99.000000  \n"
          ]
        }
      ]
    },
    {
      "cell_type": "markdown",
      "source": [
        "# **Step 2.3 : Counting Missing Values:**\n",
        "\n",
        "This step is essential for diagnosing data quality. Missing values can lead to biased or inaccurate models if not handled properly."
      ],
      "metadata": {
        "id": "Dy6MvsJGoLLC"
      }
    },
    {
      "cell_type": "code",
      "source": [
        "# Count missing values in each column\n",
        "print(\"Missing Values Count:\")\n",
        "print(df.isnull().sum())"
      ],
      "metadata": {
        "id": "jy6idUTvVTPc",
        "colab": {
          "base_uri": "https://localhost:8080/"
        },
        "outputId": "6174cff9-0c2c-4a3d-9af1-19824c5447c2"
      },
      "execution_count": 35,
      "outputs": [
        {
          "output_type": "stream",
          "name": "stdout",
          "text": [
            "Missing Values Count:\n",
            "age               0\n",
            "workclass         0\n",
            "fnlwgt            0\n",
            "education         0\n",
            "education-num     0\n",
            "marital-status    0\n",
            "occupation        0\n",
            "relationship      0\n",
            "race              0\n",
            "sex               0\n",
            "capital-gain      0\n",
            "capital-loss      0\n",
            "hours-per-week    0\n",
            "native-country    0\n",
            "income            0\n",
            "dtype: int64\n"
          ]
        }
      ]
    },
    {
      "cell_type": "markdown",
      "source": [
        "### **Step 2.4 : Checking for Duplicate Records:**\n",
        "\n",
        "Duplicates can skew the analysis by over-representing some data, so it's important to remove them."
      ],
      "metadata": {
        "id": "Zx768vdZoTKm"
      }
    },
    {
      "cell_type": "code",
      "source": [
        "# Check for duplicate records\n",
        "print(\"Duplicate Records Count:\")\n",
        "print(df.duplicated().sum())"
      ],
      "metadata": {
        "id": "gf-P4Q1iVW_a",
        "colab": {
          "base_uri": "https://localhost:8080/"
        },
        "outputId": "711d99e0-b1b6-47c9-8733-fbff58a044f0"
      },
      "execution_count": 36,
      "outputs": [
        {
          "output_type": "stream",
          "name": "stdout",
          "text": [
            "Duplicate Records Count:\n",
            "24\n"
          ]
        }
      ]
    },
    {
      "cell_type": "markdown",
      "source": [
        "### **Step 2.5 : Inspecting Unique Values in Categorical Columns:**\n",
        "\n",
        "Unique value inspection reveals if there are any unexpected values (e.g., a '?' or extra spaces) that need cleaning. This is important for ensuring reliable encoding later."
      ],
      "metadata": {
        "id": "_BQfjyVHoc4h"
      }
    },
    {
      "cell_type": "code",
      "source": [
        "# Check the unique data of each Categorical column to find if there is any irrelevant record or data e.g one record contains ? mark\n",
        "\n",
        "categorical_columns = df.select_dtypes(include=['object', 'category']).columns\n",
        "\n",
        "for col in categorical_columns:\n",
        "    print(f\"\\nColumn: {col}\")\n",
        "    print(df[col].unique())"
      ],
      "metadata": {
        "id": "LZzyOkp8Vjfe",
        "colab": {
          "base_uri": "https://localhost:8080/"
        },
        "outputId": "f6a23e3d-2b6f-4f89-e117-66725a1234f9"
      },
      "execution_count": 37,
      "outputs": [
        {
          "output_type": "stream",
          "name": "stdout",
          "text": [
            "\n",
            "Column: workclass\n",
            "['State-gov' 'Self-emp-not-inc' 'Private' 'Federal-gov' 'Local-gov' '?'\n",
            " 'Self-emp-inc' 'Without-pay' 'Never-worked']\n",
            "\n",
            "Column: education\n",
            "['Bachelors' 'HS-grad' '11th' 'Masters' '9th' 'Some-college' 'Assoc-acdm'\n",
            " 'Assoc-voc' '7th-8th' 'Doctorate' 'Prof-school' '5th-6th' '10th'\n",
            " '1st-4th' 'Preschool' '12th']\n",
            "\n",
            "Column: marital-status\n",
            "['Never-married' 'Married-civ-spouse' 'Divorced' 'Married-spouse-absent'\n",
            " 'Separated' 'Married-AF-spouse' 'Widowed']\n",
            "\n",
            "Column: occupation\n",
            "['Adm-clerical' 'Exec-managerial' 'Handlers-cleaners' 'Prof-specialty'\n",
            " 'Other-service' 'Sales' 'Craft-repair' 'Transport-moving'\n",
            " 'Farming-fishing' 'Machine-op-inspct' 'Tech-support' '?'\n",
            " 'Protective-serv' 'Armed-Forces' 'Priv-house-serv']\n",
            "\n",
            "Column: relationship\n",
            "['Not-in-family' 'Husband' 'Wife' 'Own-child' 'Unmarried' 'Other-relative']\n",
            "\n",
            "Column: race\n",
            "['White' 'Black' 'Asian-Pac-Islander' 'Amer-Indian-Eskimo' 'Other']\n",
            "\n",
            "Column: sex\n",
            "['Male' 'Female']\n",
            "\n",
            "Column: native-country\n",
            "['United-States' 'Cuba' 'Jamaica' 'India' '?' 'Mexico' 'South'\n",
            " 'Puerto-Rico' 'Honduras' 'England' 'Canada' 'Germany' 'Iran'\n",
            " 'Philippines' 'Italy' 'Poland' 'Columbia' 'Cambodia' 'Thailand' 'Ecuador'\n",
            " 'Laos' 'Taiwan' 'Haiti' 'Portugal' 'Dominican-Republic' 'El-Salvador'\n",
            " 'France' 'Guatemala' 'China' 'Japan' 'Yugoslavia' 'Peru'\n",
            " 'Outlying-US(Guam-USVI-etc)' 'Scotland' 'Trinadad&Tobago' 'Greece'\n",
            " 'Nicaragua' 'Vietnam' 'Hong' 'Ireland' 'Hungary' 'Holand-Netherlands']\n",
            "\n",
            "Column: income\n",
            "['<=50K' '>50K']\n"
          ]
        }
      ]
    },
    {
      "cell_type": "markdown",
      "source": [
        "### **Step 2.6 : Validating and Converting Data Types:**\n",
        "\n",
        "Converting columns to the correct datatype (like converting an ID column to a string) prevents errors in operations such as merging, filtering, or encoding."
      ],
      "metadata": {
        "id": "51UFtEbPolG7"
      }
    },
    {
      "cell_type": "markdown",
      "source": [],
      "metadata": {
        "id": "fNmeH7rXoq-B"
      }
    },
    {
      "cell_type": "code",
      "source": [
        "# Check the data type of each column and if wrong datatype convert it to the suitable datatype\n",
        "\n",
        "# Show current data types\n",
        "print(\"Original Data Types:\\n\")\n",
        "print(df.dtypes)\n",
        "\n",
        "# Try to convert columns to suitable datatypes where needed\n",
        "for col in df.columns:\n",
        "    # Skip object columns for now (categorical/text)\n",
        "    if df[col].dtype == 'object':\n",
        "        try:\n",
        "            # Try converting to numeric (if applicable)\n",
        "            df[col] = pd.to_numeric(df[col])\n",
        "            print(f\"Converted '{col}' to numeric.\")\n",
        "        except ValueError:\n",
        "            try:\n",
        "                # Try converting to datetime (if applicable)\n",
        "                df[col] = pd.to_datetime(df[col])\n",
        "                print(f\"Converted '{col}' to datetime.\")\n",
        "            except ValueError:\n",
        "                # If neither numeric nor datetime, assume it's categorical\n",
        "                df[col] = df[col].astype('category')\n",
        "                print(f\"Converted '{col}' to category.\")\n",
        "    elif df[col].dtype == 'int64' or df[col].dtype == 'float64':\n",
        "        continue  # Numeric types are fine\n",
        "    elif 'date' in col.lower():\n",
        "        try:\n",
        "            df[col] = pd.to_datetime(df[col])\n",
        "            print(f\"Converted '{col}' to datetime (by name match).\")\n",
        "        except:\n",
        "            pass  # If can't convert, keep it as is\n",
        "\n",
        "# Show updated data types\n",
        "print(\"\\nUpdated Data Types:\\n\")\n",
        "print(df.dtypes)"
      ],
      "metadata": {
        "id": "FpkcYaJWWWnB",
        "colab": {
          "base_uri": "https://localhost:8080/"
        },
        "outputId": "ffc8fb60-106e-4bb8-9ea3-e5094c43e7d2"
      },
      "execution_count": 38,
      "outputs": [
        {
          "output_type": "stream",
          "name": "stdout",
          "text": [
            "Original Data Types:\n",
            "\n",
            "age                int64\n",
            "workclass         object\n",
            "fnlwgt             int64\n",
            "education         object\n",
            "education-num      int64\n",
            "marital-status    object\n",
            "occupation        object\n",
            "relationship      object\n",
            "race              object\n",
            "sex               object\n",
            "capital-gain       int64\n",
            "capital-loss       int64\n",
            "hours-per-week     int64\n",
            "native-country    object\n",
            "income            object\n",
            "dtype: object\n",
            "Converted 'workclass' to category.\n",
            "Converted 'education' to category.\n",
            "Converted 'marital-status' to category.\n",
            "Converted 'occupation' to category.\n",
            "Converted 'relationship' to category.\n",
            "Converted 'race' to category.\n",
            "Converted 'sex' to category.\n",
            "Converted 'native-country' to category.\n",
            "Converted 'income' to category.\n",
            "\n",
            "Updated Data Types:\n",
            "\n",
            "age                  int64\n",
            "workclass         category\n",
            "fnlwgt               int64\n",
            "education         category\n",
            "education-num        int64\n",
            "marital-status    category\n",
            "occupation        category\n",
            "relationship      category\n",
            "race              category\n",
            "sex               category\n",
            "capital-gain         int64\n",
            "capital-loss         int64\n",
            "hours-per-week       int64\n",
            "native-country    category\n",
            "income            category\n",
            "dtype: object\n"
          ]
        },
        {
          "output_type": "stream",
          "name": "stderr",
          "text": [
            "<ipython-input-38-996e1fac457a>:18: UserWarning: Could not infer format, so each element will be parsed individually, falling back to `dateutil`. To ensure parsing is consistent and as-expected, please specify a format.\n",
            "  df[col] = pd.to_datetime(df[col])\n",
            "<ipython-input-38-996e1fac457a>:18: UserWarning: Could not infer format, so each element will be parsed individually, falling back to `dateutil`. To ensure parsing is consistent and as-expected, please specify a format.\n",
            "  df[col] = pd.to_datetime(df[col])\n",
            "<ipython-input-38-996e1fac457a>:18: UserWarning: Could not infer format, so each element will be parsed individually, falling back to `dateutil`. To ensure parsing is consistent and as-expected, please specify a format.\n",
            "  df[col] = pd.to_datetime(df[col])\n",
            "<ipython-input-38-996e1fac457a>:18: UserWarning: Could not infer format, so each element will be parsed individually, falling back to `dateutil`. To ensure parsing is consistent and as-expected, please specify a format.\n",
            "  df[col] = pd.to_datetime(df[col])\n",
            "<ipython-input-38-996e1fac457a>:18: UserWarning: Could not infer format, so each element will be parsed individually, falling back to `dateutil`. To ensure parsing is consistent and as-expected, please specify a format.\n",
            "  df[col] = pd.to_datetime(df[col])\n",
            "<ipython-input-38-996e1fac457a>:18: UserWarning: Could not infer format, so each element will be parsed individually, falling back to `dateutil`. To ensure parsing is consistent and as-expected, please specify a format.\n",
            "  df[col] = pd.to_datetime(df[col])\n",
            "<ipython-input-38-996e1fac457a>:18: UserWarning: Could not infer format, so each element will be parsed individually, falling back to `dateutil`. To ensure parsing is consistent and as-expected, please specify a format.\n",
            "  df[col] = pd.to_datetime(df[col])\n",
            "<ipython-input-38-996e1fac457a>:18: UserWarning: Could not infer format, so each element will be parsed individually, falling back to `dateutil`. To ensure parsing is consistent and as-expected, please specify a format.\n",
            "  df[col] = pd.to_datetime(df[col])\n",
            "<ipython-input-38-996e1fac457a>:18: UserWarning: Could not infer format, so each element will be parsed individually, falling back to `dateutil`. To ensure parsing is consistent and as-expected, please specify a format.\n",
            "  df[col] = pd.to_datetime(df[col])\n"
          ]
        }
      ]
    },
    {
      "cell_type": "markdown",
      "source": [
        "### **Step 2.7 : Checking Value Counts for Categorical Columns:**\n",
        "\n",
        "Value counts help in understanding the distribution within each category. They are useful for detecting class imbalances and anomalies."
      ],
      "metadata": {
        "id": "Qo91Tudgotxt"
      }
    },
    {
      "cell_type": "code",
      "source": [
        "# Check value count for each Cateorical column\n",
        "categorical_columns = df.select_dtypes(include=['object', 'category']).columns\n",
        "\n",
        "for col in categorical_columns:\n",
        "    print(f\"\\nColumn: {col}\")\n",
        "    print(df[col].value_counts())"
      ],
      "metadata": {
        "id": "OvH-IVFbWj13",
        "colab": {
          "base_uri": "https://localhost:8080/"
        },
        "outputId": "baf748e3-847a-45b9-df85-2c7f223eed2e"
      },
      "execution_count": 39,
      "outputs": [
        {
          "output_type": "stream",
          "name": "stdout",
          "text": [
            "\n",
            "Column: workclass\n",
            "workclass\n",
            "Private             22696\n",
            "Self-emp-not-inc     2541\n",
            "Local-gov            2093\n",
            "?                    1836\n",
            "State-gov            1298\n",
            "Self-emp-inc         1116\n",
            "Federal-gov           960\n",
            "Without-pay            14\n",
            "Never-worked            7\n",
            "Name: count, dtype: int64\n",
            "\n",
            "Column: education\n",
            "education\n",
            "HS-grad         10501\n",
            "Some-college     7291\n",
            "Bachelors        5355\n",
            "Masters          1723\n",
            "Assoc-voc        1382\n",
            "11th             1175\n",
            "Assoc-acdm       1067\n",
            "10th              933\n",
            "7th-8th           646\n",
            "Prof-school       576\n",
            "9th               514\n",
            "12th              433\n",
            "Doctorate         413\n",
            "5th-6th           333\n",
            "1st-4th           168\n",
            "Preschool          51\n",
            "Name: count, dtype: int64\n",
            "\n",
            "Column: marital-status\n",
            "marital-status\n",
            "Married-civ-spouse       14976\n",
            "Never-married            10683\n",
            "Divorced                  4443\n",
            "Separated                 1025\n",
            "Widowed                    993\n",
            "Married-spouse-absent      418\n",
            "Married-AF-spouse           23\n",
            "Name: count, dtype: int64\n",
            "\n",
            "Column: occupation\n",
            "occupation\n",
            "Prof-specialty       4140\n",
            "Craft-repair         4099\n",
            "Exec-managerial      4066\n",
            "Adm-clerical         3770\n",
            "Sales                3650\n",
            "Other-service        3295\n",
            "Machine-op-inspct    2002\n",
            "?                    1843\n",
            "Transport-moving     1597\n",
            "Handlers-cleaners    1370\n",
            "Farming-fishing       994\n",
            "Tech-support          928\n",
            "Protective-serv       649\n",
            "Priv-house-serv       149\n",
            "Armed-Forces            9\n",
            "Name: count, dtype: int64\n",
            "\n",
            "Column: relationship\n",
            "relationship\n",
            "Husband           13193\n",
            "Not-in-family      8305\n",
            "Own-child          5068\n",
            "Unmarried          3446\n",
            "Wife               1568\n",
            "Other-relative      981\n",
            "Name: count, dtype: int64\n",
            "\n",
            "Column: race\n",
            "race\n",
            "White                 27816\n",
            "Black                  3124\n",
            "Asian-Pac-Islander     1039\n",
            "Amer-Indian-Eskimo      311\n",
            "Other                   271\n",
            "Name: count, dtype: int64\n",
            "\n",
            "Column: sex\n",
            "sex\n",
            "Male      21790\n",
            "Female    10771\n",
            "Name: count, dtype: int64\n",
            "\n",
            "Column: native-country\n",
            "native-country\n",
            "United-States                 29170\n",
            "Mexico                          643\n",
            "?                               583\n",
            "Philippines                     198\n",
            "Germany                         137\n",
            "Canada                          121\n",
            "Puerto-Rico                     114\n",
            "El-Salvador                     106\n",
            "India                           100\n",
            "Cuba                             95\n",
            "England                          90\n",
            "Jamaica                          81\n",
            "South                            80\n",
            "China                            75\n",
            "Italy                            73\n",
            "Dominican-Republic               70\n",
            "Vietnam                          67\n",
            "Guatemala                        64\n",
            "Japan                            62\n",
            "Poland                           60\n",
            "Columbia                         59\n",
            "Taiwan                           51\n",
            "Haiti                            44\n",
            "Iran                             43\n",
            "Portugal                         37\n",
            "Nicaragua                        34\n",
            "Peru                             31\n",
            "France                           29\n",
            "Greece                           29\n",
            "Ecuador                          28\n",
            "Ireland                          24\n",
            "Hong                             20\n",
            "Cambodia                         19\n",
            "Trinadad&Tobago                  19\n",
            "Thailand                         18\n",
            "Laos                             18\n",
            "Yugoslavia                       16\n",
            "Outlying-US(Guam-USVI-etc)       14\n",
            "Honduras                         13\n",
            "Hungary                          13\n",
            "Scotland                         12\n",
            "Holand-Netherlands                1\n",
            "Name: count, dtype: int64\n",
            "\n",
            "Column: income\n",
            "income\n",
            "<=50K    24720\n",
            ">50K      7841\n",
            "Name: count, dtype: int64\n"
          ]
        }
      ]
    },
    {
      "cell_type": "markdown",
      "source": [
        "### **Step 2.8 : Handling Missing Values using SimpleImputer:**\n",
        "\n",
        "Imputation preserves the dataset size while ensuring that no null values interfere with analysis. Different strategies are used for numerical (mean) and categorical (mode) columns based on their characteristics."
      ],
      "metadata": {
        "id": "llNnCP5ko4T5"
      }
    },
    {
      "cell_type": "code",
      "source": [
        "# TODO: fill null values either by mean , median  or mode based on type of data\n",
        "\n",
        "# Separate numeric and categorical columns\n",
        "\n",
        "# Numeric: fill with mean\n",
        "\n",
        "# Categorical: fill with most frequent (mode)\n",
        "\n",
        "\n",
        "\n",
        "# Separate columns by data type\n",
        "numeric_cols = df.select_dtypes(include=['number']).columns\n",
        "categorical_cols = df.select_dtypes(include=['object', 'category']).columns\n",
        "\n",
        "# Fill missing values in numeric columns with mean\n",
        "for col in numeric_cols:\n",
        "    if df[col].isnull().sum() > 0:\n",
        "        mean_value = df[col].mean()\n",
        "        df[col].fillna(mean_value, inplace=True)\n",
        "        print(f\"Filled NaN in numeric column '{col}' with mean: {mean_value}\")\n",
        "\n",
        "# Fill missing values in categorical columns with mode\n",
        "for col in categorical_cols:\n",
        "    if df[col].isnull().sum() > 0:\n",
        "        mode_value = df[col].mode()[0]\n",
        "        df[col].fillna(mode_value, inplace=True)\n",
        "        print(f\"Filled NaN in categorical column '{col}' with mode: {mode_value}\")\n"
      ],
      "metadata": {
        "id": "BK5ZTqMxW5ki"
      },
      "execution_count": 40,
      "outputs": []
    },
    {
      "cell_type": "markdown",
      "source": [
        "# **Step 3 : Converting Data Types and Cleaning Categorical Data**"
      ],
      "metadata": {
        "id": "EExEvME4XNq1"
      }
    },
    {
      "cell_type": "markdown",
      "source": [
        "### **Step 3.1 :Removing Leading/Trailing Spaces:**\n",
        "\n",
        "Standardize entries in categorical columns so that no extra spaces lead to misclassification of similar values.\n",
        "\n"
      ],
      "metadata": {
        "id": "q-db-_uPpTJ0"
      }
    },
    {
      "cell_type": "code",
      "source": [
        "# Check for leading/trailing spaces in categorical data and remove them\n",
        "\n",
        "# Select categorical columns\n",
        "categorical_cols = df.select_dtypes(include=['object', 'category']).columns\n",
        "\n",
        "# Strip leading/trailing spaces\n",
        "for col in categorical_cols:\n",
        "    original = df[col].copy()\n",
        "    df[col] = df[col].astype(str).str.strip()\n",
        "\n",
        "    # Check if anything changed\n",
        "    if not original.equals(df[col]):\n",
        "        print(f\"Stripped spaces from column: {col}\")"
      ],
      "metadata": {
        "id": "Icg-EEh9X_vu",
        "colab": {
          "base_uri": "https://localhost:8080/"
        },
        "outputId": "19c8d091-0d74-4350-e915-d024fd1093e5"
      },
      "execution_count": 41,
      "outputs": [
        {
          "output_type": "stream",
          "name": "stdout",
          "text": [
            "Stripped spaces from column: workclass\n",
            "Stripped spaces from column: education\n",
            "Stripped spaces from column: marital-status\n",
            "Stripped spaces from column: occupation\n",
            "Stripped spaces from column: relationship\n",
            "Stripped spaces from column: race\n",
            "Stripped spaces from column: sex\n",
            "Stripped spaces from column: native-country\n",
            "Stripped spaces from column: income\n"
          ]
        }
      ]
    },
    {
      "cell_type": "markdown",
      "source": [
        "### **Step 3.2 : Checking and Converting Data Types:**\n",
        "\n",
        "Ensure that every column is of the correct data type (e.g., IDs as strings, dates as datetime)."
      ],
      "metadata": {
        "id": "dkHbBwQypbOC"
      }
    },
    {
      "cell_type": "code",
      "source": [
        "# Check the data type of each column and if wrong datatype convert it to the suitable datatype\n",
        "\n",
        "# Show original data types\n",
        "print(\"Original Data Types:\\n\", df.dtypes)\n",
        "\n",
        "# Try to fix data types\n",
        "for col in df.columns:\n",
        "    # Skip columns that are already numeric or datetime\n",
        "    if pd.api.types.is_numeric_dtype(df[col]) or pd.api.types.is_datetime64_any_dtype(df[col]):\n",
        "        continue\n",
        "\n",
        "    # Try to convert to numeric\n",
        "    try:\n",
        "        df[col] = pd.to_numeric(df[col])\n",
        "        print(f\"✅ Converted '{col}' to numeric.\")\n",
        "        continue\n",
        "    except:\n",
        "        pass\n",
        "\n",
        "    # Try to convert to datetime\n",
        "    try:\n",
        "        df[col] = pd.to_datetime(df[col])\n",
        "        print(f\"✅ Converted '{col}' to datetime.\")\n",
        "        continue\n",
        "    except:\n",
        "        pass\n",
        "\n",
        "    # If nothing worked, convert to category (for text-like data)\n",
        "    df[col] = df[col].astype('category')\n",
        "    print(f\"ℹ️ Converted '{col}' to category.\")\n",
        "\n",
        "# Show updated data types\n",
        "print(\"\\nUpdated Data Types:\\n\", df.dtypes)"
      ],
      "metadata": {
        "id": "dDPXmI9sYCIr",
        "colab": {
          "base_uri": "https://localhost:8080/"
        },
        "outputId": "0c78153e-c66e-4952-cf84-26b59db53009"
      },
      "execution_count": 42,
      "outputs": [
        {
          "output_type": "stream",
          "name": "stdout",
          "text": [
            "Original Data Types:\n",
            " age                int64\n",
            "workclass         object\n",
            "fnlwgt             int64\n",
            "education         object\n",
            "education-num      int64\n",
            "marital-status    object\n",
            "occupation        object\n",
            "relationship      object\n",
            "race              object\n",
            "sex               object\n",
            "capital-gain       int64\n",
            "capital-loss       int64\n",
            "hours-per-week     int64\n",
            "native-country    object\n",
            "income            object\n",
            "dtype: object\n",
            "ℹ️ Converted 'workclass' to category.\n",
            "ℹ️ Converted 'education' to category.\n",
            "ℹ️ Converted 'marital-status' to category.\n",
            "ℹ️ Converted 'occupation' to category.\n",
            "ℹ️ Converted 'relationship' to category.\n",
            "ℹ️ Converted 'race' to category.\n",
            "ℹ️ Converted 'sex' to category.\n",
            "ℹ️ Converted 'native-country' to category.\n",
            "ℹ️ Converted 'income' to category.\n",
            "\n",
            "Updated Data Types:\n",
            " age                  int64\n",
            "workclass         category\n",
            "fnlwgt               int64\n",
            "education         category\n",
            "education-num        int64\n",
            "marital-status    category\n",
            "occupation        category\n",
            "relationship      category\n",
            "race              category\n",
            "sex               category\n",
            "capital-gain         int64\n",
            "capital-loss         int64\n",
            "hours-per-week       int64\n",
            "native-country    category\n",
            "income            category\n",
            "dtype: object\n"
          ]
        },
        {
          "output_type": "stream",
          "name": "stderr",
          "text": [
            "<ipython-input-42-ca6c66c1244c>:22: UserWarning: Could not infer format, so each element will be parsed individually, falling back to `dateutil`. To ensure parsing is consistent and as-expected, please specify a format.\n",
            "  df[col] = pd.to_datetime(df[col])\n",
            "<ipython-input-42-ca6c66c1244c>:22: UserWarning: Could not infer format, so each element will be parsed individually, falling back to `dateutil`. To ensure parsing is consistent and as-expected, please specify a format.\n",
            "  df[col] = pd.to_datetime(df[col])\n",
            "<ipython-input-42-ca6c66c1244c>:22: UserWarning: Could not infer format, so each element will be parsed individually, falling back to `dateutil`. To ensure parsing is consistent and as-expected, please specify a format.\n",
            "  df[col] = pd.to_datetime(df[col])\n",
            "<ipython-input-42-ca6c66c1244c>:22: UserWarning: Could not infer format, so each element will be parsed individually, falling back to `dateutil`. To ensure parsing is consistent and as-expected, please specify a format.\n",
            "  df[col] = pd.to_datetime(df[col])\n",
            "<ipython-input-42-ca6c66c1244c>:22: UserWarning: Could not infer format, so each element will be parsed individually, falling back to `dateutil`. To ensure parsing is consistent and as-expected, please specify a format.\n",
            "  df[col] = pd.to_datetime(df[col])\n",
            "<ipython-input-42-ca6c66c1244c>:22: UserWarning: Could not infer format, so each element will be parsed individually, falling back to `dateutil`. To ensure parsing is consistent and as-expected, please specify a format.\n",
            "  df[col] = pd.to_datetime(df[col])\n",
            "<ipython-input-42-ca6c66c1244c>:22: UserWarning: Could not infer format, so each element will be parsed individually, falling back to `dateutil`. To ensure parsing is consistent and as-expected, please specify a format.\n",
            "  df[col] = pd.to_datetime(df[col])\n",
            "<ipython-input-42-ca6c66c1244c>:22: UserWarning: Could not infer format, so each element will be parsed individually, falling back to `dateutil`. To ensure parsing is consistent and as-expected, please specify a format.\n",
            "  df[col] = pd.to_datetime(df[col])\n",
            "<ipython-input-42-ca6c66c1244c>:22: UserWarning: Could not infer format, so each element will be parsed individually, falling back to `dateutil`. To ensure parsing is consistent and as-expected, please specify a format.\n",
            "  df[col] = pd.to_datetime(df[col])\n"
          ]
        }
      ]
    },
    {
      "cell_type": "markdown",
      "source": [
        "### **3.3 : Converting to 'category' Datatype:**\n",
        "\n",
        "Transform columns that represent categorical data (like Gender or Embarked port) into the 'category' type to optimize memory and computational performance."
      ],
      "metadata": {
        "id": "HAVw1LLUpiaB"
      }
    },
    {
      "cell_type": "code",
      "source": [
        "# Convert suitable columns to 'category' datatype\n",
        "\n",
        "# Or auto-detect object/string columns with low unique value counts\n",
        "categorical_cols = [\n",
        "    col for col in df.columns\n",
        "    if df[col].dtype == 'object' and df[col].nunique() < 0.1 * len(df)\n",
        "]\n",
        "\n",
        "# Convert to 'category' dtype\n",
        "for col in categorical_cols:\n",
        "    df[col] = df[col].astype('category')\n",
        "    print(f\"✅ Converted '{col}' to 'category' type.\")\n",
        "\n",
        "# Show updated data types\n",
        "print(\"\\nUpdated Data Types:\\n\", df.dtypes)"
      ],
      "metadata": {
        "id": "sY775ImqYRv2",
        "colab": {
          "base_uri": "https://localhost:8080/"
        },
        "outputId": "98b8f071-686e-4822-9379-30263f8eaef4"
      },
      "execution_count": 43,
      "outputs": [
        {
          "output_type": "stream",
          "name": "stdout",
          "text": [
            "\n",
            "Updated Data Types:\n",
            " age                  int64\n",
            "workclass         category\n",
            "fnlwgt               int64\n",
            "education         category\n",
            "education-num        int64\n",
            "marital-status    category\n",
            "occupation        category\n",
            "relationship      category\n",
            "race              category\n",
            "sex               category\n",
            "capital-gain         int64\n",
            "capital-loss         int64\n",
            "hours-per-week       int64\n",
            "native-country    category\n",
            "income            category\n",
            "dtype: object\n"
          ]
        }
      ]
    },
    {
      "cell_type": "markdown",
      "source": [
        "# **Step 4 : Feature Engineering**"
      ],
      "metadata": {
        "id": "DbwoPFYddrWL"
      }
    },
    {
      "cell_type": "markdown",
      "source": [
        "### **Step 4.1 : Creating \"age_group\" Feature:**\n",
        "\n",
        "Binning converts continuous age values into meaningful categories (e.g., 'Young', 'Adult') that are easier to analyze and interpret."
      ],
      "metadata": {
        "id": "ukKqYOPVpuLr"
      }
    },
    {
      "cell_type": "code",
      "source": [
        "# create feature \"age_group\" age categories using binning\n",
        "bins = [0, 25, 45, 65, np.inf]\n",
        "labels = ['Young', 'Adult', 'Middle-Aged', 'Senior']\n",
        "\n",
        "df['age_group'] = pd.cut(df['age'], bins=bins, labels=labels, right=False)\n"
      ],
      "metadata": {
        "id": "VHiOa7f_dzKh"
      },
      "execution_count": 44,
      "outputs": []
    },
    {
      "cell_type": "markdown",
      "source": [
        "### **Step 4.2 : Creating \"education_hours_interaction\" Feature:**\n",
        "\n",
        "Interaction features help capture complex relationships between variables. In this case, the interaction between education (via 'education-num') and work intensity ('hours-per-week') may reveal underlying patterns related to social or economic outcomes."
      ],
      "metadata": {
        "id": "IWKoxWFup3KB"
      }
    },
    {
      "cell_type": "code",
      "source": [
        "# Create an interaction feature \"education_hours_interaction\": education-num multiplied by hours-per-week (as a proxy for workload vs. education level)\n",
        "df['education_hours_interaction'] = df['education-num'] * df['hours-per-week']"
      ],
      "metadata": {
        "id": "HJp0nf9CeXJu"
      },
      "execution_count": 45,
      "outputs": []
    },
    {
      "cell_type": "markdown",
      "source": [
        "# **Step 5 : Encoding Categorical Data**"
      ],
      "metadata": {
        "id": "9aCin-YDYSPt"
      }
    },
    {
      "cell_type": "markdown",
      "source": [
        "**One-Hot Encoding:** Converts multiple categorical values into binary columns to prevent ordinality.\n"
      ],
      "metadata": {
        "id": "o8fRRNwpqXYE"
      }
    },
    {
      "cell_type": "code",
      "source": [
        "# One-hot encode the categorical columns (sex, workclass, education, etc.).\n",
        "ct = OneHotEncoder(sparse_output=False)\n",
        "encoded_df = df.copy()\n",
        "\n",
        "for col in df.select_dtypes(include=['object', 'category']).columns:\n",
        "    x = pd.DataFrame(ct.fit_transform(encoded_df[[col]]))\n",
        "    x.columns = ct.get_feature_names_out([col])\n",
        "    encoded_df = encoded_df.join(x)\n",
        "\n",
        "print(encoded_df)"
      ],
      "metadata": {
        "id": "oZY0ypZfYb1C",
        "colab": {
          "base_uri": "https://localhost:8080/"
        },
        "outputId": "cdffa9e7-1d4d-4c9e-a4ae-af0a1fa7647b"
      },
      "execution_count": 46,
      "outputs": [
        {
          "output_type": "stream",
          "name": "stdout",
          "text": [
            "       age         workclass  fnlwgt   education  education-num  \\\n",
            "0       39         State-gov   77516   Bachelors             13   \n",
            "1       50  Self-emp-not-inc   83311   Bachelors             13   \n",
            "2       38           Private  215646     HS-grad              9   \n",
            "3       53           Private  234721        11th              7   \n",
            "4       28           Private  338409   Bachelors             13   \n",
            "...    ...               ...     ...         ...            ...   \n",
            "32556   27           Private  257302  Assoc-acdm             12   \n",
            "32557   40           Private  154374     HS-grad              9   \n",
            "32558   58           Private  151910     HS-grad              9   \n",
            "32559   22           Private  201490     HS-grad              9   \n",
            "32560   52      Self-emp-inc  287927     HS-grad              9   \n",
            "\n",
            "           marital-status         occupation   relationship   race     sex  \\\n",
            "0           Never-married       Adm-clerical  Not-in-family  White    Male   \n",
            "1      Married-civ-spouse    Exec-managerial        Husband  White    Male   \n",
            "2                Divorced  Handlers-cleaners  Not-in-family  White    Male   \n",
            "3      Married-civ-spouse  Handlers-cleaners        Husband  Black    Male   \n",
            "4      Married-civ-spouse     Prof-specialty           Wife  Black  Female   \n",
            "...                   ...                ...            ...    ...     ...   \n",
            "32556  Married-civ-spouse       Tech-support           Wife  White  Female   \n",
            "32557  Married-civ-spouse  Machine-op-inspct        Husband  White    Male   \n",
            "32558             Widowed       Adm-clerical      Unmarried  White  Female   \n",
            "32559       Never-married       Adm-clerical      Own-child  White    Male   \n",
            "32560  Married-civ-spouse    Exec-managerial           Wife  White  Female   \n",
            "\n",
            "       ...  native-country_Trinadad&Tobago  native-country_United-States  \\\n",
            "0      ...                             0.0                           1.0   \n",
            "1      ...                             0.0                           1.0   \n",
            "2      ...                             0.0                           1.0   \n",
            "3      ...                             0.0                           1.0   \n",
            "4      ...                             0.0                           0.0   \n",
            "...    ...                             ...                           ...   \n",
            "32556  ...                             0.0                           1.0   \n",
            "32557  ...                             0.0                           1.0   \n",
            "32558  ...                             0.0                           1.0   \n",
            "32559  ...                             0.0                           1.0   \n",
            "32560  ...                             0.0                           1.0   \n",
            "\n",
            "       native-country_Vietnam native-country_Yugoslavia income_<=50K  \\\n",
            "0                         0.0                       0.0          1.0   \n",
            "1                         0.0                       0.0          1.0   \n",
            "2                         0.0                       0.0          1.0   \n",
            "3                         0.0                       0.0          1.0   \n",
            "4                         0.0                       0.0          1.0   \n",
            "...                       ...                       ...          ...   \n",
            "32556                     0.0                       0.0          1.0   \n",
            "32557                     0.0                       0.0          0.0   \n",
            "32558                     0.0                       0.0          1.0   \n",
            "32559                     0.0                       0.0          1.0   \n",
            "32560                     0.0                       0.0          0.0   \n",
            "\n",
            "      income_>50K  age_group_Adult  age_group_Middle-Aged  age_group_Senior  \\\n",
            "0             0.0              1.0                    0.0               0.0   \n",
            "1             0.0              0.0                    1.0               0.0   \n",
            "2             0.0              1.0                    0.0               0.0   \n",
            "3             0.0              0.0                    1.0               0.0   \n",
            "4             0.0              1.0                    0.0               0.0   \n",
            "...           ...              ...                    ...               ...   \n",
            "32556         0.0              1.0                    0.0               0.0   \n",
            "32557         1.0              1.0                    0.0               0.0   \n",
            "32558         0.0              0.0                    1.0               0.0   \n",
            "32559         0.0              0.0                    0.0               0.0   \n",
            "32560         1.0              0.0                    1.0               0.0   \n",
            "\n",
            "       age_group_Young  \n",
            "0                  0.0  \n",
            "1                  0.0  \n",
            "2                  0.0  \n",
            "3                  0.0  \n",
            "4                  0.0  \n",
            "...                ...  \n",
            "32556              0.0  \n",
            "32557              0.0  \n",
            "32558              0.0  \n",
            "32559              1.0  \n",
            "32560              0.0  \n",
            "\n",
            "[32561 rows x 125 columns]\n"
          ]
        }
      ]
    },
    {
      "cell_type": "markdown",
      "source": [
        "\n",
        "**Label Encoding for Income:** Maps income to binary labels for binary classification tasks."
      ],
      "metadata": {
        "id": "nVEycZ3hqcpL"
      }
    },
    {
      "cell_type": "code",
      "source": [
        "# Use label encoding for the income column, converting ≤50K to 0 and 50K to 1.\n",
        "ordinal_encoder = LabelEncoder()\n",
        "df['income_encoded'] = ordinal_encoder.fit_transform(df[['income']])\n",
        "print(df)"
      ],
      "metadata": {
        "id": "-ltaHLaqYoQW",
        "colab": {
          "base_uri": "https://localhost:8080/"
        },
        "outputId": "73a035ca-8350-4be3-a1ce-584e9640b7af"
      },
      "execution_count": 48,
      "outputs": [
        {
          "output_type": "stream",
          "name": "stdout",
          "text": [
            "       age         workclass  fnlwgt   education  education-num  \\\n",
            "0       39         State-gov   77516   Bachelors             13   \n",
            "1       50  Self-emp-not-inc   83311   Bachelors             13   \n",
            "2       38           Private  215646     HS-grad              9   \n",
            "3       53           Private  234721        11th              7   \n",
            "4       28           Private  338409   Bachelors             13   \n",
            "...    ...               ...     ...         ...            ...   \n",
            "32556   27           Private  257302  Assoc-acdm             12   \n",
            "32557   40           Private  154374     HS-grad              9   \n",
            "32558   58           Private  151910     HS-grad              9   \n",
            "32559   22           Private  201490     HS-grad              9   \n",
            "32560   52      Self-emp-inc  287927     HS-grad              9   \n",
            "\n",
            "           marital-status         occupation   relationship   race     sex  \\\n",
            "0           Never-married       Adm-clerical  Not-in-family  White    Male   \n",
            "1      Married-civ-spouse    Exec-managerial        Husband  White    Male   \n",
            "2                Divorced  Handlers-cleaners  Not-in-family  White    Male   \n",
            "3      Married-civ-spouse  Handlers-cleaners        Husband  Black    Male   \n",
            "4      Married-civ-spouse     Prof-specialty           Wife  Black  Female   \n",
            "...                   ...                ...            ...    ...     ...   \n",
            "32556  Married-civ-spouse       Tech-support           Wife  White  Female   \n",
            "32557  Married-civ-spouse  Machine-op-inspct        Husband  White    Male   \n",
            "32558             Widowed       Adm-clerical      Unmarried  White  Female   \n",
            "32559       Never-married       Adm-clerical      Own-child  White    Male   \n",
            "32560  Married-civ-spouse    Exec-managerial           Wife  White  Female   \n",
            "\n",
            "       capital-gain  capital-loss  hours-per-week native-country income  \\\n",
            "0              2174             0              40  United-States  <=50K   \n",
            "1                 0             0              13  United-States  <=50K   \n",
            "2                 0             0              40  United-States  <=50K   \n",
            "3                 0             0              40  United-States  <=50K   \n",
            "4                 0             0              40           Cuba  <=50K   \n",
            "...             ...           ...             ...            ...    ...   \n",
            "32556             0             0              38  United-States  <=50K   \n",
            "32557             0             0              40  United-States   >50K   \n",
            "32558             0             0              40  United-States  <=50K   \n",
            "32559             0             0              20  United-States  <=50K   \n",
            "32560         15024             0              40  United-States   >50K   \n",
            "\n",
            "         age_group  education_hours_interaction  income_encoded  \n",
            "0            Adult                          520               0  \n",
            "1      Middle-Aged                          169               0  \n",
            "2            Adult                          360               0  \n",
            "3      Middle-Aged                          280               0  \n",
            "4            Adult                          520               0  \n",
            "...            ...                          ...             ...  \n",
            "32556        Adult                          456               0  \n",
            "32557        Adult                          360               1  \n",
            "32558  Middle-Aged                          360               0  \n",
            "32559        Young                          180               0  \n",
            "32560  Middle-Aged                          360               1  \n",
            "\n",
            "[32561 rows x 18 columns]\n"
          ]
        },
        {
          "output_type": "stream",
          "name": "stderr",
          "text": [
            "/usr/local/lib/python3.11/dist-packages/sklearn/preprocessing/_label.py:110: DataConversionWarning: A column-vector y was passed when a 1d array was expected. Please change the shape of y to (n_samples, ), for example using ravel().\n",
            "  y = column_or_1d(y, warn=True)\n"
          ]
        }
      ]
    },
    {
      "cell_type": "markdown",
      "source": [
        "# **Step 6 : Normalization and Standardization**"
      ],
      "metadata": {
        "id": "aD2o-DGiYnQy"
      }
    },
    {
      "cell_type": "markdown",
      "source": [
        "Standardization transforms the specified columns to a mean of 0 and a standard deviation of 1, which is important to ensure comparability among numerical features during model training."
      ],
      "metadata": {
        "id": "qikbvxtLqicN"
      }
    },
    {
      "cell_type": "code",
      "source": [
        "# Standardize the \"age\", \"hours-per-week\", \"capital-gain\" and \"capital-loss\" column to have a mean of 0 and a standard deviation of 1.\n",
        "\n",
        "scaler = StandardScaler()\n",
        "df[['age', 'hours-per-week', 'capital-gain', 'capital-loss']] = scaler.fit_transform(df[['age', 'hours-per-week', 'capital-gain', 'capital-loss']])\n",
        "\n",
        "print(df)"
      ],
      "metadata": {
        "id": "zsagvJU5ZNvS",
        "colab": {
          "base_uri": "https://localhost:8080/",
          "height": 211
        },
        "outputId": "537e9c21-7d01-44a3-c72b-cb29a00c7117"
      },
      "execution_count": 49,
      "outputs": [
        {
          "output_type": "error",
          "ename": "NameError",
          "evalue": "name 'StandardScaler' is not defined",
          "traceback": [
            "\u001b[0;31m---------------------------------------------------------------------------\u001b[0m",
            "\u001b[0;31mNameError\u001b[0m                                 Traceback (most recent call last)",
            "\u001b[0;32m<ipython-input-49-7656b17eb9b4>\u001b[0m in \u001b[0;36m<cell line: 0>\u001b[0;34m()\u001b[0m\n\u001b[1;32m      1\u001b[0m \u001b[0;31m# Standardize the \"age\", \"hours-per-week\", \"capital-gain\" and \"capital-loss\" column to have a mean of 0 and a standard deviation of 1.\u001b[0m\u001b[0;34m\u001b[0m\u001b[0;34m\u001b[0m\u001b[0m\n\u001b[1;32m      2\u001b[0m \u001b[0;34m\u001b[0m\u001b[0m\n\u001b[0;32m----> 3\u001b[0;31m \u001b[0mscaler\u001b[0m \u001b[0;34m=\u001b[0m \u001b[0mStandardScaler\u001b[0m\u001b[0;34m(\u001b[0m\u001b[0;34m)\u001b[0m\u001b[0;34m\u001b[0m\u001b[0;34m\u001b[0m\u001b[0m\n\u001b[0m\u001b[1;32m      4\u001b[0m \u001b[0mdf\u001b[0m\u001b[0;34m[\u001b[0m\u001b[0;34m[\u001b[0m\u001b[0;34m'age'\u001b[0m\u001b[0;34m,\u001b[0m \u001b[0;34m'hours-per-week'\u001b[0m\u001b[0;34m,\u001b[0m \u001b[0;34m'capital-gain'\u001b[0m\u001b[0;34m,\u001b[0m \u001b[0;34m'capital-loss'\u001b[0m\u001b[0;34m]\u001b[0m\u001b[0;34m]\u001b[0m \u001b[0;34m=\u001b[0m \u001b[0mscaler\u001b[0m\u001b[0;34m.\u001b[0m\u001b[0mfit_transform\u001b[0m\u001b[0;34m(\u001b[0m\u001b[0mdf\u001b[0m\u001b[0;34m[\u001b[0m\u001b[0;34m[\u001b[0m\u001b[0;34m'age'\u001b[0m\u001b[0;34m,\u001b[0m \u001b[0;34m'hours-per-week'\u001b[0m\u001b[0;34m,\u001b[0m \u001b[0;34m'capital-gain'\u001b[0m\u001b[0;34m,\u001b[0m \u001b[0;34m'capital-loss'\u001b[0m\u001b[0;34m]\u001b[0m\u001b[0;34m]\u001b[0m\u001b[0;34m)\u001b[0m\u001b[0;34m\u001b[0m\u001b[0;34m\u001b[0m\u001b[0m\n\u001b[1;32m      5\u001b[0m \u001b[0;34m\u001b[0m\u001b[0m\n",
            "\u001b[0;31mNameError\u001b[0m: name 'StandardScaler' is not defined"
          ]
        }
      ]
    }
  ]
}