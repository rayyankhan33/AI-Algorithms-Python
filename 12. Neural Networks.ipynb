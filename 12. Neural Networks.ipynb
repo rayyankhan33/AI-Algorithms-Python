{
  "cells": [
    {
      "cell_type": "markdown",
      "id": "34bad134",
      "metadata": {
        "id": "34bad134"
      },
      "source": [
        "# Task: Classification using Neural Networks in PyTorch (Iris Dataset)\n",
        "### Objective:\n",
        "In this task, you will build a neural network for classifying the Iris dataset. The task is divided into five clear parts."
      ]
    },
    {
      "cell_type": "markdown",
      "id": "1dd0ec91",
      "metadata": {
        "id": "1dd0ec91"
      },
      "source": [
        "## Dataset:\n",
        "You will use the **Iris dataset** (available in `sklearn.datasets`). It has 4 features:\n",
        "- `sepal length`\n",
        "- `sepal width`\n",
        "- `petal length`\n",
        "- `petal width`\n",
        "\n",
        "And 3 target classes:\n",
        "- Setosa (0)\n",
        "- Versicolour (1)\n",
        "- Virginica (2)"
      ]
    },
    {
      "cell_type": "markdown",
      "id": "8145588a",
      "metadata": {
        "id": "8145588a"
      },
      "source": [
        "## PART 1: Data Preprocessing"
      ]
    },
    {
      "cell_type": "markdown",
      "id": "0cbf3aca",
      "metadata": {
        "id": "0cbf3aca"
      },
      "source": [
        "Perform the following steps:\n",
        "1. Load the dataset using `sklearn.datasets.load_iris()`.\n",
        "2. Convert it to a Pandas DataFrame.\n",
        "3. Shuffle the dataset.\n",
        "4. Check for missing values.\n",
        "5. Normalize the feature columns using `StandardScaler`.\n",
        "6. Split the data into **80% training** and **20% testing**.\n",
        "7. Convert the data into PyTorch tensors."
      ]
    },
    {
      "cell_type": "code",
      "execution_count": null,
      "id": "64fbf64e",
      "metadata": {
        "id": "64fbf64e"
      },
      "outputs": [],
      "source": [
        "# TODO BY STUDENTS: Import required libraries\n",
        "import pandas as pd\n",
        "import numpy as np\n",
        "from sklearn import datasets\n",
        "from sklearn.model_selection import train_test_split\n",
        "from sklearn.preprocessing import StandardScaler\n",
        "import torch"
      ]
    },
    {
      "cell_type": "code",
      "execution_count": 3,
      "id": "ffc1654a",
      "metadata": {
        "id": "ffc1654a"
      },
      "outputs": [
        {
          "name": "stdout",
          "output_type": "stream",
          "text": [
            "Missing values:\n",
            " sepal length (cm)    0\n",
            "sepal width (cm)     0\n",
            "petal length (cm)    0\n",
            "petal width (cm)     0\n",
            "target               0\n",
            "dtype: int64\n"
          ]
        }
      ],
      "source": [
        "# TODO: Preprocess the Iris dataset step-by-step\n",
        "# 1. Load the dataset\n",
        "iris = datasets.load_iris()\n",
        "X = iris.data\n",
        "y = iris.target\n",
        "\n",
        "# 2. Convert to DataFrame\n",
        "df = pd.DataFrame(X, columns=iris.feature_names)\n",
        "df['target'] = y\n",
        "\n",
        "# 3. Shuffle the dataset\n",
        "df = df.sample(frac=1, random_state=42).reset_index(drop=True)\n",
        "\n",
        "# 4. Check for missing values\n",
        "print(\"Missing values:\\n\", df.isnull().sum())\n",
        "\n",
        "# 5. Normalize the feature columns\n",
        "scaler = StandardScaler()\n",
        "X_scaled = scaler.fit_transform(df.iloc[:, :-1])\n",
        "\n",
        "# 6. Split the data\n",
        "X_train, X_test, y_train, y_test = train_test_split(\n",
        "    X_scaled, df['target'], test_size=0.2, random_state=42, stratify=df['target']\n",
        ")\n",
        "\n",
        "# 7. Convert to PyTorch tensors\n",
        "X_train_tensor = torch.tensor(X_train, dtype=torch.float32)\n",
        "X_test_tensor = torch.tensor(X_test, dtype=torch.float32)\n",
        "y_train_tensor = torch.tensor(y_train.values, dtype=torch.long)\n",
        "y_test_tensor = torch.tensor(y_test.values, dtype=torch.long)"
      ]
    },
    {
      "cell_type": "markdown",
      "id": "7c94d86b",
      "metadata": {
        "id": "7c94d86b"
      },
      "source": [
        "## Feedforward Neural Network"
      ]
    },
    {
      "cell_type": "markdown",
      "id": "6c772a6e",
      "metadata": {
        "id": "6c772a6e"
      },
      "source": [
        "Build a PyTorch neural network with the following architecture:\n",
        "\n",
        "- Input Layer: 4 neurons\n",
        "- Hidden Layer 1: 10 neurons + ReLU\n",
        "- Output Layer: 3 neurons (no activation here, handled by loss function)\n",
        "\n",
        "Use `nn.CrossEntropyLoss()` as the loss function."
      ]
    },
    {
      "cell_type": "code",
      "execution_count": 4,
      "id": "fe4b488e",
      "metadata": {
        "id": "fe4b488e"
      },
      "outputs": [],
      "source": [
        "# model with architecture\n",
        "import torch.nn as nn\n",
        "class Net(nn.Module):\n",
        "    def __init__(self):\n",
        "        super(Net, self).__init__()\n",
        "        self.fc1 = nn.Linear(4, 10)\n",
        "        self.relu = nn.ReLU()\n",
        "        self.fc2 = nn.Linear(10, 3)\n",
        "\n",
        "    def forward(self, x):\n",
        "        x = self.fc1(x)\n",
        "        x = self.relu(x)\n",
        "        x = self.fc2(x)\n",
        "        return x\n",
        "\n",
        "# model_1 = Net()"
      ]
    },
    {
      "cell_type": "markdown",
      "id": "3933fe02",
      "metadata": {
        "id": "3933fe02"
      },
      "source": [
        "## PART 2: Modify Architecture"
      ]
    },
    {
      "cell_type": "markdown",
      "id": "14d10817",
      "metadata": {
        "id": "14d10817"
      },
      "source": [
        "Update your model as follows:\n",
        "- Input Layer: 4 neurons (unchanged)\n",
        "- Hidden Layer 1: 16 neurons + ReLU\n",
        "- Hidden Layer 2: 8 neurons + ReLU\n",
        "- Output Layer: 3 neurons"
      ]
    },
    {
      "cell_type": "code",
      "execution_count": 5,
      "id": "29518c59",
      "metadata": {
        "id": "29518c59"
      },
      "outputs": [],
      "source": [
        "# TODO: Modify model to have two hidden layers\n",
        "class NetModified(nn.Module):\n",
        "    def __init__(self):\n",
        "        super(NetModified, self).__init__()\n",
        "        self.fc1 = nn.Linear(4, 16)\n",
        "        self.relu1 = nn.ReLU()\n",
        "        self.fc2 = nn.Linear(16, 8)\n",
        "        self.relu2 = nn.ReLU()\n",
        "        self.fc3 = nn.Linear(8, 3)\n",
        "\n",
        "    def forward(self, x):\n",
        "        x = self.fc1(x)\n",
        "        x = self.relu1(x)\n",
        "        x = self.fc2(x)\n",
        "        x = self.relu2(x)\n",
        "        x = self.fc3(x)\n",
        "        return x\n",
        "\n",
        "# model_2 = NetModified()"
      ]
    },
    {
      "cell_type": "markdown",
      "id": "51d58b60",
      "metadata": {
        "id": "51d58b60"
      },
      "source": [
        "## PART 3: Apply Optimizer and Train models"
      ]
    },
    {
      "cell_type": "markdown",
      "id": "c4c20999",
      "metadata": {
        "id": "c4c20999"
      },
      "source": [
        "Use the following settings:\n",
        "- Optimizer: **Adam**\n",
        "- Learning Rate: `0.01`\n",
        "- Number of Epochs: `300`\n",
        "\n",
        "Train the updated model and log loss."
      ]
    },
    {
      "cell_type": "code",
      "execution_count": 6,
      "id": "6029ab19",
      "metadata": {
        "id": "6029ab19"
      },
      "outputs": [
        {
          "data": {
            "image/png": "[encoded data removed]",
            "text/plain": [
              "<Figure size 640x480 with 1 Axes>"
            ]
          },
          "metadata": {},
          "output_type": "display_data"
        }
      ],
      "source": [
        "# TODO: Train the model and plot loss (for model_1)\n",
        "import torch.optim as optim\n",
        "import matplotlib.pyplot as plt\n",
        "\n",
        "# Your code here\n",
        "model_1 = Net()\n",
        "criterion = nn.CrossEntropyLoss()\n",
        "optimizer = optim.Adam(model_1.parameters(), lr=0.01)\n",
        "epochs = 300\n",
        "losses = []\n",
        "\n",
        "for epoch in range(epochs):\n",
        "    optimizer.zero_grad()\n",
        "    outputs = model_1(X_train_tensor)\n",
        "    loss = criterion(outputs, y_train_tensor)\n",
        "    loss.backward()\n",
        "    optimizer.step()\n",
        "    losses.append(loss.item())\n",
        "\n",
        "plt.plot(losses)\n",
        "plt.title('Training Loss (Model 1)')\n",
        "plt.xlabel('Epoch')\n",
        "plt.ylabel('Loss')\n",
        "plt.show()\n",
        "\n",
        "\n",
        "\n",
        "# plt.plot(losses)\n",
        "# plt.title('Training Loss')\n",
        "# plt.show()"
      ]
    },
    {
      "cell_type": "code",
      "execution_count": 7,
      "id": "VZ8kYOV1B8Wz",
      "metadata": {
        "id": "VZ8kYOV1B8Wz"
      },
      "outputs": [
        {
          "data": {
            "image/png": "[encoded data removed]",
            "text/plain": [
              "<Figure size 640x480 with 1 Axes>"
            ]
          },
          "metadata": {},
          "output_type": "display_data"
        }
      ],
      "source": [
        "# TODO: Train the model and plot loss (for model_2)\n",
        "import torch.optim as optim\n",
        "import matplotlib.pyplot as plt\n",
        "\n",
        "# Your code here\n",
        "model_2 = NetModified()\n",
        "criterion = nn.CrossEntropyLoss()\n",
        "optimizer = optim.Adam(model_2.parameters(), lr=0.01)\n",
        "epochs = 300\n",
        "losses = []\n",
        "\n",
        "for epoch in range(epochs):\n",
        "    optimizer.zero_grad()\n",
        "    outputs = model_2(X_train_tensor)\n",
        "    loss = criterion(outputs, y_train_tensor)\n",
        "    loss.backward()\n",
        "    optimizer.step()\n",
        "    losses.append(loss.item())\n",
        "\n",
        "plt.plot(losses)\n",
        "plt.title('Training Loss (Model 2)')\n",
        "plt.xlabel('Epoch')\n",
        "plt.ylabel('Loss')\n",
        "plt.show()\n",
        "# plt.plot(losses)\n",
        "# plt.title('Training Loss')\n",
        "# plt.show()"
      ]
    },
    {
      "cell_type": "markdown",
      "id": "2dd45e3a",
      "metadata": {
        "id": "2dd45e3a"
      },
      "source": [
        "## Evaluation of the Models"
      ]
    },
    {
      "cell_type": "markdown",
      "id": "UnEQxQAmCNBi",
      "metadata": {
        "id": "UnEQxQAmCNBi"
      },
      "source": [
        "### **For model_1**"
      ]
    },
    {
      "cell_type": "code",
      "execution_count": 8,
      "id": "df6b606e",
      "metadata": {
        "id": "df6b606e"
      },
      "outputs": [
        {
          "name": "stdout",
          "output_type": "stream",
          "text": [
            "Accuracy (Model 1): 1.0\n",
            "Confusion Matrix (Model 1):\n",
            " [[10  0  0]\n",
            " [ 0 10  0]\n",
            " [ 0  0 10]]\n"
          ]
        }
      ],
      "source": [
        "# TODO: Predict and calculate accuracy\n",
        "from sklearn.metrics import accuracy_score, confusion_matrix\n",
        "\n",
        "# your code here\n",
        "model_1.eval()\n",
        "with torch.no_grad():\n",
        "    y_pred = model_1(X_test_tensor)\n",
        "    y_pred_labels = torch.argmax(y_pred, dim=1).numpy()\n",
        "\n",
        "acc = accuracy_score(y_test, y_pred_labels)\n",
        "cm = confusion_matrix(y_test, y_pred_labels)\n",
        "print(\"Accuracy (Model 1):\", acc)\n",
        "print(\"Confusion Matrix (Model 1):\\n\", cm)"
      ]
    },
    {
      "cell_type": "markdown",
      "id": "hIn1juqYCQ3n",
      "metadata": {
        "id": "hIn1juqYCQ3n"
      },
      "source": [
        "### **For model_2**"
      ]
    },
    {
      "cell_type": "code",
      "execution_count": 9,
      "id": "_IgLnFJeCTNj",
      "metadata": {
        "id": "_IgLnFJeCTNj"
      },
      "outputs": [
        {
          "name": "stdout",
          "output_type": "stream",
          "text": [
            "Accuracy (Model 2): 0.9666666666666667\n",
            "Confusion Matrix (Model 2):\n",
            " [[10  0  0]\n",
            " [ 0  9  1]\n",
            " [ 0  0 10]]\n"
          ]
        }
      ],
      "source": [
        "# TODO: Predict and calculate accuracy\n",
        "from sklearn.metrics import accuracy_score, confusion_matrix\n",
        "\n",
        "#  your code here\n",
        "model_2.eval()\n",
        "with torch.no_grad():\n",
        "    y_pred = model_2(X_test_tensor)\n",
        "    y_pred_labels = torch.argmax(y_pred, dim=1).numpy()\n",
        "\n",
        "acc = accuracy_score(y_test, y_pred_labels)\n",
        "cm = confusion_matrix(y_test, y_pred_labels)\n",
        "print(\"Accuracy (Model 2):\", acc)\n",
        "print(\"Confusion Matrix (Model 2):\\n\", cm)\n"
      ]
    }
  ],
  "metadata": {
    "colab": {
      "provenance": []
    },
    "kernelspec": {
      "display_name": "Python 3",
      "language": "python",
      "name": "python3"
    },
    "language_info": {
      "codemirror_mode": {
        "name": "ipython",
        "version": 3
      },
      "file_extension": ".py",
      "mimetype": "text/x-python",
      "name": "python",
      "nbconvert_exporter": "python",
      "pygments_lexer": "ipython3",
      "version": "3.13.2"
    }
  },
  "nbformat": 4,
  "nbformat_minor": 5
}
