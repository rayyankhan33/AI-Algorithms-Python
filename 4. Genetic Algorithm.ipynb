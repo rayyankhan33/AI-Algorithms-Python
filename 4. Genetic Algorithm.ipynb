{
  "cells": [
    {
      "cell_type": "markdown",
      "metadata": {
        "id": "UJzKHAqXUkmT"
      },
      "source": [
        "# Genetic Algorithm \n"
      ]
    },
    {
      "cell_type": "markdown",
      "metadata": {
        "id": "d2UJ38P5Ukmf"
      },
      "source": [
        "## Task 1: KnapSack Problem"
      ]
    },
    {
      "cell_type": "code",
      "execution_count": 1322,
      "metadata": {
        "id": "RsSY-NExs2lL"
      },
      "outputs": [],
      "source": [
        "import random\n",
        "\n",
        "# Problem parameters\n",
        "items = [\n",
        "    {\"name\": \"N1\", \"value\": 14, \"weight\": 1},\n",
        "    {\"name\": \"N2\", \"value\": 23, \"weight\": 3},\n",
        "    {\"name\": \"N3\", \"value\": 8, \"weight\": 7},\n",
        "    {\"name\": \"N4\", \"value\": 9, \"weight\": 4},\n",
        "    {\"name\": \"N5\", \"value\": 17, \"weight\": 5},\n",
        "    {\"name\": \"N6\", \"value\": 15, \"weight\": 6}\n",
        "]\n",
        "max_weight = 10\n",
        "population_size = 10\n",
        "mutation_rate = 0.1\n",
        "generations = 50\n"
      ]
    },
    {
      "cell_type": "code",
      "execution_count": 1323,
      "metadata": {
        "id": "gHplnTHftrpI"
      },
      "outputs": [],
      "source": [
        "\n",
        "# Initialize population\n",
        "def initialize_population():\n",
        "    return [[random.randint(0, 1) for _ in range(len(items))] for _ in range(population_size)]\n"
      ]
    },
    {
      "cell_type": "code",
      "execution_count": 1324,
      "metadata": {
        "id": "NIUXn1DitrsI"
      },
      "outputs": [],
      "source": [
        "# Fitness function\n",
        "def fitness(individual):\n",
        "    total_value = sum(ind * item[\"value\"] for ind, item in zip(individual, items))\n",
        "    total_weight = sum(ind * item[\"weight\"] for ind, item in zip(individual, items))\n",
        "    return total_value if total_weight <= max_weight else 0"
      ]
    },
    {
      "cell_type": "code",
      "execution_count": 1325,
      "metadata": {
        "id": "8x_B0ZKqtruc"
      },
      "outputs": [],
      "source": [
        "# Selection (tournament selection)\n",
        "def selection(population):\n",
        "    tournament = random.sample(population, 4)\n",
        "    return max(tournament, key=fitness)"
      ]
    },
    {
      "cell_type": "code",
      "execution_count": 1326,
      "metadata": {
        "id": "0U0833Rptrw0"
      },
      "outputs": [],
      "source": [
        "# Crossover (one-point crossover)\n",
        "def crossover(parent1, parent2):\n",
        "    point = random.randint(1, len(items) - 1)\n",
        "    return parent1[:point] + parent2[point:], parent2[:point] + parent1[point:]"
      ]
    },
    {
      "cell_type": "code",
      "execution_count": 1327,
      "metadata": {
        "id": "NoF50GQMtrzW"
      },
      "outputs": [],
      "source": [
        "\n",
        "# Mutation\n",
        "def mutate(individual):\n",
        "    return [bit if random.random() > mutation_rate else 1 - bit for bit in individual]"
      ]
    },
    {
      "cell_type": "code",
      "execution_count": 1328,
      "metadata": {
        "id": "He718-I6WVgT"
      },
      "outputs": [],
      "source": [
        "# Replacement\n",
        "def replace_population(population, new_population):\n",
        "    combined = population + new_population\n",
        "    return sorted(combined, key=fitness, reverse=True)[:population_size]"
      ]
    },
    {
      "cell_type": "code",
      "execution_count": 1329,
      "metadata": {
        "colab": {
          "base_uri": "https://localhost:8080/"
        },
        "id": "lSMf7IOLWYld",
        "outputId": "f7c741e3-84f8-4e73-877f-d854bd200290"
      },
      "outputs": [
        {
          "name": "stdout",
          "output_type": "stream",
          "text": [
            "Best Solution: [1, 1, 0, 0, 0, 1], Value: 52, Weight: 10\n"
          ]
        }
      ],
      "source": [
        "\n",
        "# Genetic Algorithm Execution\n",
        "def genetic_algorithm():\n",
        "    population = initialize_population()\n",
        "\n",
        "    for _ in range(generations):\n",
        "        new_population = []\n",
        "        for _ in range(population_size // 2):\n",
        "            parent1, parent2 = selection(population), selection(population)\n",
        "            child1, child2 = crossover(parent1, parent2)\n",
        "            new_population.extend([mutate(child1), mutate(child2)])\n",
        "\n",
        "        population = replace_population(population, new_population)\n",
        "\n",
        "    best_solution = max(population, key=fitness)\n",
        "    best_value = fitness(best_solution)\n",
        "    best_weight = sum(ind * item[\"weight\"] for ind, item in zip(best_solution, items))\n",
        "    print(f\"Best Solution: {best_solution}, Value: {best_value}, Weight: {best_weight}\")\n",
        "\n",
        "# Run the algorithm\n",
        "genetic_algorithm()\n"
      ]
    }
  ],
  "metadata": {
    "colab": {
      "provenance": []
    },
    "kernelspec": {
      "display_name": "Python 3",
      "name": "python3"
    },
    "language_info": {
      "name": "python"
    }
  },
  "nbformat": 4,
  "nbformat_minor": 0
}
