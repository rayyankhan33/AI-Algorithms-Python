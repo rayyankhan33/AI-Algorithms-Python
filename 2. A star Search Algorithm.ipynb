{
  "cells": [
    {
      "cell_type": "markdown",
      "metadata": {
        "id": "Esl0N49evL4T"
      },
      "source": [
        "# **Question 01**"
      ]
    },
    {
      "cell_type": "markdown",
      "metadata": {
        "id": "E-0TKeR67IYD"
      },
      "source": [
        "## **Problem Statement**\n",
        "You are given a **4x4 sliding tile puzzle** consisting of **15 numbered tiles (1-15)** and **one empty space (0)**.  \n",
        "Your task is to implement the **A\\* search algorithm** to find the **shortest sequence of moves** that transforms the given **start state** into the **goal state** using the **Manhattan distance heuristic**.\n",
        "\n",
        "---\n",
        "\n",
        "## **Initial and Goal States**\n",
        "### **Start State (Given)**\n",
        "```python\n",
        "start_state = [\n",
        "    [1, 2, 3, 4],\n",
        "    [5, 6, 0, 8],\n",
        "    [9, 10, 7, 11],\n",
        "    [13, 14, 15, 12]\n",
        "]\n",
        "\n",
        "goal_state = [\n",
        "    [1, 2, 3, 4],\n",
        "    [5, 6, 7, 8],\n",
        "    [9, 10, 11, 12],\n",
        "    [13, 14, 15, 0]\n",
        "]\n",
        "```\n",
        "### **Expected Output:**\n",
        "\n",
        "*     Sequence of moves required to reach the goal (e.g., \"Move tile 7 left\").\n",
        "*     Final grid configuration after applying the moves.\n",
        "\n",
        "### **Constraints:**\n",
        "1.     You can only move the empty space (0) to adjacent positions (up, down, left, right).\n",
        "2.     Moving LEFT or RIGHT has a cost of 1.\n",
        "3.     Moving UP or DOWN has a cost of 2.\n",
        "4.     The algorithm should use f(n) = g(n) + h(n) where g(n) is the total move cost.\n",
        "5.     The goal is to minimize the number of moves to reach the solved state.\n",
        "6.     **Heuristic Function:** The Manhattan distance between each tile’s current position and its goal position. The Manhattan distance for each tile is the sum of the horizontal and vertical distance between its current and goal positions.\n",
        "\n"
      ]
    },
    {
      "cell_type": "code",
      "execution_count": 17,
      "metadata": {
        "id": "UpvGEkBIvNF_"
      },
      "outputs": [],
      "source": [
        "import heapq\n",
        "\n",
        "# Start and goal states\n",
        "start_state = [\n",
        "    [1, 2, 3, 4],\n",
        "    [5, 6, 0, 8],\n",
        "    [9, 10, 7, 11],\n",
        "    [13, 14, 15, 12]\n",
        "]\n",
        "\n",
        "goal_state = [\n",
        "    [1, 2, 3, 4],\n",
        "    [5, 6, 7, 8],\n",
        "    [9, 10, 11, 12],\n",
        "    [13, 14, 15, 0]\n",
        "]\n",
        "\n",
        "def manhattan_distance(state):\n",
        "\n",
        "    \"\"\"Compute the Manhattan distance heuristic for a given puzzle state.\"\"\"\n",
        "\n",
        "    distance = 0\n",
        "    for i in range(4):\n",
        "        for j in range(4):\n",
        "            val = state[i][j]\n",
        "            if val != 0:\n",
        "                goal_row = (val - 1) // 4\n",
        "                goal_col = (val - 1) % 4\n",
        "                distance += abs(i - goal_row) + abs(j - goal_col)\n",
        "    return distance\n",
        "\n",
        "def get_neighbors(state):\n",
        "    \"\"\"Generate all valid moves by shifting the empty space (0).\"\"\"\n",
        "    neighbors = []\n",
        "    moves = {'Up': (-1, 0, 2), 'Down': (1, 0, 2), 'Left': (0, -1, 1), 'Right': (0, 1, 1)}\n",
        "\n",
        "    # Find empty tile (0)\n",
        "    x, y = next((i, j) for i in range(4) for j in range(4) if state[i][j] == 0)\n",
        "\n",
        "    for move, (dx, dy, cost) in moves.items():\n",
        "        new_x, new_y = x + dx, y + dy\n",
        "        if 0 <= new_x < 4 and 0 <= new_y < 4:\n",
        "            new_state = [row[:] for row in state]\n",
        "            # Swap 0 with adjacent tile\n",
        "            new_state[x][y], new_state[new_x][new_y] = new_state[new_x][new_y], new_state[x][y]\n",
        "            neighbors.append((new_state, move, new_state[x][y], cost))\n",
        "\n",
        "    return neighbors\n",
        ""
      ]
    },
    {
      "cell_type": "code",
      "execution_count": 18,
      "metadata": {
        "id": "9my5MIfzvNOW"
      },
      "outputs": [],
      "source": [
        "import heapq\n",
        "\n",
        "\n",
        "def a_star_search(start, goal):\n",
        "    \"\"\"Implement A* search algorithm to find the shortest path from start to goal state.\"\"\"\n",
        "    frontier = []\n",
        "    heapq.heappush(frontier, (manhattan_distance(start), 0, start, []))\n",
        "    visited = set()\n",
        "\n",
        "    while frontier:\n",
        "        f, g, current, path = heapq.heappop(frontier)\n",
        "        state_tuple = tuple(tuple(row) for row in current)\n",
        "\n",
        "        if state_tuple in visited:\n",
        "            continue\n",
        "        visited.add(state_tuple)\n",
        "\n",
        "        if current == goal:\n",
        "            return path, current\n",
        "\n",
        "        for neighbor, move, tile, cost in get_neighbors(current):\n",
        "            new_g = g + cost\n",
        "            new_f = new_g + manhattan_distance(neighbor)\n",
        "            heapq.heappush(frontier, (new_f, new_g, neighbor, path + [f\"Move tile {tile} {move}\"]))\n",
        "\n",
        "    return None, None\n"
      ]
    },
    {
      "cell_type": "code",
      "execution_count": 19,
      "metadata": {
        "id": "ROjsGzotvNRs",
        "colab": {
          "base_uri": "https://localhost:8080/"
        },
        "outputId": "5910aaf0-a7aa-450f-f99a-c103558238dd"
      },
      "outputs": [
        {
          "output_type": "stream",
          "name": "stdout",
          "text": [
            "Solution Moves:\n",
            "Move tile 7 Down\n",
            "Move tile 11 Right\n",
            "Move tile 12 Down\n",
            "\n",
            "Final Configuration:\n",
            "[1, 2, 3, 4]\n",
            "[5, 6, 7, 8]\n",
            "[9, 10, 11, 12]\n",
            "[13, 14, 15, 0]\n"
          ]
        }
      ],
      "source": [
        "\n",
        "# Run the A* search\n",
        "solution_moves, final_state = a_star_search(start_state, goal_state)\n",
        "\n",
        "# Output the results\n",
        "if solution_moves:\n",
        "    print(\"Solution Moves:\")\n",
        "    for move in solution_moves:\n",
        "        print(move)\n",
        "    print(\"\\nFinal Configuration:\")\n",
        "    for row in final_state:\n",
        "        print(row)\n",
        "else:\n",
        "    print(\"No solution found.\")\n"
      ]
    },
    {
      "cell_type": "markdown",
      "metadata": {
        "id": "YiPCh-bAvI59"
      },
      "source": [
        "# **Question 02**"
      ]
    },
    {
      "cell_type": "markdown",
      "metadata": {
        "id": "gci1AAX4vbVF"
      },
      "source": [
        "A company is launching a new product and needs to decide the best pricing strategy to maximize profit. The company can choose from different price points, but each price point affects both demand (units sold) and profit per unit. You are given a set of possible price points, along with the expected demand (units sold at that price) and profit per unit. Your task is to use Steepest-Ascent Hill Climbing to find the best price point that maximizes overall profit. After implementing Steepest-Ascent Hill Climbing, modify your approach to apply Random Restart Hill Climbing, running the steepest-ascent algorithm multiple times from different starting points to improve the solution."
      ]
    },
    {
      "cell_type": "markdown",
      "metadata": {
        "id": "QJKAdlUttq-k"
      },
      "source": [
        "Implement the Hill Climbing Algorithm to find the best price point using the following steps:\n",
        "\n",
        "*   Start with a random price point from the given options.\n",
        "*   Iterate until a local maximum is reached.\n",
        "*   Evaluate neighboring price points and select the one that increases the total profit the most.\n",
        "*   Update the current price point with the selected neighbor.\n",
        "*   Update the best price point if the new state gives a higher profit."
      ]
    },
    {
      "cell_type": "code",
      "execution_count": 20,
      "metadata": {
        "id": "knmbz6hlqte2"
      },
      "outputs": [],
      "source": [
        "import random\n",
        "\n",
        "# Price points and their corresponding demand and profit per unit\n",
        "pricing_options = {\n",
        "    \"price1\": {\"profit_per_unit\": 5, \"demand\": 500},\n",
        "    \"price2\": {\"profit_per_unit\": 8, \"demand\": 400},\n",
        "    \"price3\": {\"profit_per_unit\": 12, \"demand\": 300},\n",
        "    \"price4\": {\"profit_per_unit\": 15, \"demand\": 200},\n",
        "    \"price5\": {\"profit_per_unit\": 20, \"demand\": 150},\n",
        "    \"price6\": {\"profit_per_unit\": 25, \"demand\": 100}\n",
        "}\n"
      ]
    },
    {
      "cell_type": "code",
      "execution_count": 21,
      "metadata": {
        "id": "CmGaI6TawiY0"
      },
      "outputs": [],
      "source": [
        "###  **Evaluation Function**\n",
        "def evaluate(state):\n",
        "    \"\"\"\n",
        "    Compute total profit for the given price point.\n",
        "    \"\"\"\n",
        "    profit_per_unit = pricing_options[state][\"profit_per_unit\"]\n",
        "    demand = pricing_options[state][\"demand\"]\n",
        "    return profit_per_unit * demand\n"
      ]
    },
    {
      "cell_type": "code",
      "execution_count": 22,
      "metadata": {
        "id": "fN_aqTaftq-n"
      },
      "outputs": [],
      "source": [
        "### **Steepest-Ascent Hill Climbing Algorithm**\n",
        "def hill_climbing(max_iter=50):\n",
        "    \"\"\"\n",
        "    Steepest-Ascent Hill Climbing:\n",
        "    - Start with a random price point.\n",
        "    - Move to the neighbor with the highest profit gain until no improvement is possible.\n",
        "    \"\"\"\n",
        "    price_keys = list(pricing_options.keys())\n",
        "    current_index = random.randint(0, len(price_keys) - 1)\n",
        "    current_state = price_keys[current_index]\n",
        "    current_score = evaluate(current_state)\n",
        "    path = [current_state]\n",
        "\n",
        "    for _ in range(max_iter):\n",
        "        neighbors = []\n",
        "        # Check neighbors: previous and next price points in the list\n",
        "        if current_index - 1 >= 0:\n",
        "            neighbors.append(current_index - 1)\n",
        "        if current_index + 1 < len(price_keys):\n",
        "            neighbors.append(current_index + 1)\n",
        "\n",
        "        # Find the best neighbor\n",
        "        best_neighbor_index = current_index\n",
        "        best_score = current_score\n",
        "        for neighbor_index in neighbors:\n",
        "            neighbor_state = price_keys[neighbor_index]\n",
        "            neighbor_score = evaluate(neighbor_state)\n",
        "            if neighbor_score > best_score:\n",
        "                best_score = neighbor_score\n",
        "                best_neighbor_index = neighbor_index\n",
        "\n",
        "        # If no neighbor improves the score, stop (local maximum found)\n",
        "        if best_neighbor_index == current_index:\n",
        "            break\n",
        "        else:\n",
        "            current_index = best_neighbor_index\n",
        "            current_state = price_keys[current_index]\n",
        "            current_score = best_score\n",
        "            path.append(current_state)\n",
        "\n",
        "    return current_state, current_score, path\n"
      ]
    },
    {
      "cell_type": "code",
      "execution_count": 23,
      "metadata": {
        "id": "-VInTVaqq5dd"
      },
      "outputs": [],
      "source": [
        "\n",
        "###  **Random Restart Hill Climbing Algorithm**\n",
        "def random_restart_hill_climbing(restarts=5, max_iter=50):\n",
        "    \"\"\"\n",
        "    - Run Steepest-Ascent Hill Climbing multiple times with random starts.\n",
        "    - Return the best overall price point found.\n",
        "    \"\"\"\n",
        "    best_overall_state = None\n",
        "    best_overall_score = float('-inf')\n",
        "    best_overall_path = []\n",
        "\n",
        "    for i in range(restarts):\n",
        "        state, score, path = hill_climbing(max_iter=max_iter)\n",
        "        print(f\"Restart {i+1}: Best Price = {state}, Profit = {score}\")\n",
        "        if score > best_overall_score:\n",
        "            best_overall_score = score\n",
        "            best_overall_state = state\n",
        "            best_overall_path = path\n",
        "\n",
        "    return best_overall_state, best_overall_score, best_overall_path"
      ]
    },
    {
      "cell_type": "code",
      "execution_count": 24,
      "metadata": {
        "id": "iBJl6pRntq-o",
        "colab": {
          "base_uri": "https://localhost:8080/"
        },
        "outputId": "41c33c11-0e63-4343-ab52-496d978dbaa4"
      },
      "outputs": [
        {
          "output_type": "stream",
          "name": "stdout",
          "text": [
            "\n",
            "--- Steepest-Ascent Hill Climbing ---\n",
            "Best price point: price3\n",
            "Maximum total profit: 3600\n",
            "Path to solution: ['price4', 'price3']\n",
            "Restart 1: Best Price = price5, Profit = 3000\n",
            "Restart 2: Best Price = price3, Profit = 3600\n",
            "Restart 3: Best Price = price3, Profit = 3600\n",
            "Restart 4: Best Price = price3, Profit = 3600\n",
            "Restart 5: Best Price = price5, Profit = 3000\n",
            "\n",
            "--- Random Restart Hill Climbing ---\n",
            "Best price point after random restarts: price3\n",
            "Maximum total profit: 3600\n",
            "Path to solution: ['price3']\n"
          ]
        }
      ],
      "source": [
        "# **Run Steepest-Ascent Hill Climbing**\n",
        "best_state, best_score, path = hill_climbing()\n",
        "print(\"\\n--- Steepest-Ascent Hill Climbing ---\")\n",
        "print(f\"Best price point: {best_state}\")\n",
        "print(f\"Maximum total profit: {best_score}\")\n",
        "print(f\"Path to solution: {path}\")\n",
        "\n",
        "# **Run Random Restart Hill Climbing**\n",
        "best_state_rr, best_score_rr, path_rr = random_restart_hill_climbing(restarts=5)\n",
        "print(\"\\n--- Random Restart Hill Climbing ---\")\n",
        "print(f\"Best price point after random restarts: {best_state_rr}\")\n",
        "print(f\"Maximum total profit: {best_score_rr}\")\n",
        "print(f\"Path to solution: {path_rr}\")"
      ]
    }
  ],
  "metadata": {
    "colab": {
      "provenance": []
    },
    "kernelspec": {
      "display_name": "Python 3",
      "name": "python3"
    },
    "language_info": {
      "codemirror_mode": {
        "name": "ipython",
        "version": 3
      },
      "file_extension": ".py",
      "mimetype": "text/x-python",
      "name": "python",
      "nbconvert_exporter": "python",
      "pygments_lexer": "ipython3",
      "version": "3.12.4"
    }
  },
  "nbformat": 4,
  "nbformat_minor": 0
}